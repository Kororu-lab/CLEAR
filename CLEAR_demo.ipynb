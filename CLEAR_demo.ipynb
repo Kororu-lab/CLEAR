{
 "cells": [
  {
   "cell_type": "markdown",
   "metadata": {},
   "source": [
    "# CLEAR: Clustering and Stock Impact-based News Recommendation System\n",
    "\n",
    "## 시스템 데모 노트북\n",
    "\n",
    "이 노트북은 CLEAR(Clustering and Stock Impact-based News Recommendation System) 시스템의 각 모듈을 단계별로 시연합니다. 네이버의 AiRs 아키텍처를 기반으로 하되, 개인화 대신 주가 영향에 중점을 둔 뉴스 추천 시스템입니다.\n",
    "\n",
    "### 목차\n",
    "1. 환경 설정 및 데이터 로드\n",
    "2. 텍스트 전처리\n",
    "3. 뉴스 벡터화\n",
    "4. 뉴스 클러스터링\n",
    "5. 주가 영향 분석\n",
    "6. 뉴스 추천\n",
    "7. 결과 시각화 및 평가"
   ]
  },
  {
   "cell_type": "markdown",
   "metadata": {},
   "source": [
    "## 1. 환경 설정 및 데이터 로드\n",
    "\n",
    "먼저 필요한 라이브러리를 가져오고 시스템 구성 요소를 초기화합니다."
   ]
  },
  {
   "cell_type": "code",
   "execution_count": 1,
   "metadata": {},
   "outputs": [],
   "source": [
    "# 필요한 라이브러리 가져오기\n",
    "import os\n",
    "import sys\n",
    "import pandas as pd\n",
    "import numpy as np\n",
    "import matplotlib.pyplot as plt\n",
    "import seaborn as sns\n",
    "from datetime import datetime, timedelta\n",
    "import warnings\n",
    "warnings.filterwarnings('ignore')\n",
    "\n",
    "# 한글 폰트 설정\n",
    "import matplotlib.font_manager as fm\n",
    "plt.rc('font', family='NanumGothic')\n",
    "plt.rc('axes', unicode_minus=False)\n",
    "\n",
    "# 경로 설정\n",
    "sys.path.append('../src')\n",
    "\n",
    "# 시각화 스타일 설정\n",
    "sns.set_style(\"whitegrid\")\n",
    "plt.style.use('seaborn-v0_8-whitegrid')"
   ]
  },
  {
   "cell_type": "markdown",
   "metadata": {},
   "source": [
    "### CLEAR 모듈 가져오기\n",
    "\n",
    "이제 CLEAR 시스템의 각 모듈을 가져옵니다."
   ]
  },
  {
   "cell_type": "code",
   "execution_count": 2,
   "metadata": {},
   "outputs": [],
   "source": [
    "# CLEAR 모듈 가져오기\n",
    "from src.data.text_preprocessor import TextPreprocessor\n",
    "from src.models.news_vectorizer import NewsVectorizer\n",
    "from src.models.news_clustering import NewsClustering\n",
    "from src.models.stock_impact_analyzer import StockImpactAnalyzer\n",
    "from src.models.news_recommender import NewsRecommender\n",
    "from src.evaluation import CLEAREvaluator"
   ]
  },
  {
   "cell_type": "markdown",
   "metadata": {},
   "source": [
    "### 데이터 로드\n",
    "\n",
    "제공된 뉴스 및 주가 데이터를 로드합니다."
   ]
  },
  {
   "cell_type": "code",
   "execution_count": 3,
   "metadata": {},
   "outputs": [
    {
     "name": "stdout",
     "output_type": "stream",
     "text": [
      "로드된 뉴스 기사: 32208개\n",
      "뉴스 데이터 구조:\n",
      "Index(['Title', 'Date', 'Press', 'Link', 'Body', 'Emotion', 'Num_comment',\n",
      "       'AI Summary'],\n",
      "      dtype='object')\n",
      "\n",
      "뉴스 데이터 샘플:\n"
     ]
    },
    {
     "data": {
      "text/html": [
       "<div>\n",
       "<style scoped>\n",
       "    .dataframe tbody tr th:only-of-type {\n",
       "        vertical-align: middle;\n",
       "    }\n",
       "\n",
       "    .dataframe tbody tr th {\n",
       "        vertical-align: top;\n",
       "    }\n",
       "\n",
       "    .dataframe thead th {\n",
       "        text-align: right;\n",
       "    }\n",
       "</style>\n",
       "<table border=\"1\" class=\"dataframe\">\n",
       "  <thead>\n",
       "    <tr style=\"text-align: right;\">\n",
       "      <th></th>\n",
       "      <th>Title</th>\n",
       "      <th>Date</th>\n",
       "      <th>Press</th>\n",
       "      <th>Link</th>\n",
       "      <th>Body</th>\n",
       "      <th>Emotion</th>\n",
       "      <th>Num_comment</th>\n",
       "      <th>AI Summary</th>\n",
       "    </tr>\n",
       "  </thead>\n",
       "  <tbody>\n",
       "    <tr>\n",
       "      <th>0</th>\n",
       "      <td>세계 2위 휴대전화 시장 인도, 이제 중·고가 제품에 눈 돌린다</td>\n",
       "      <td>20190101 15:36</td>\n",
       "      <td>yna</td>\n",
       "      <td>https://www.yna.co.kr/view/AKR20190101051400077</td>\n",
       "      <td>김영현기자\\n구독\\n\"저가에서 고급 브랜드로 관심 옮겨…5년간 4배 성장 예상\"\\n...</td>\n",
       "      <td>{'GOOD': '0', 'SAD': '0', 'ANGRY': '0', 'NEXT'...</td>\n",
       "      <td>NaN</td>\n",
       "      <td>NaN</td>\n",
       "    </tr>\n",
       "    <tr>\n",
       "      <th>1</th>\n",
       "      <td>[부고] 홍현칠(삼성전자 서남아총괄)씨 부친상</td>\n",
       "      <td>20190101 14:53</td>\n",
       "      <td>yna</td>\n",
       "      <td>https://www.yna.co.kr/view/AKR20190101048900077</td>\n",
       "      <td>김영현기자\\n구독\\n▲ 홍선기씨 별세, 홍현구·현칠(삼성전자 서남아총괄 부사장)·현...</td>\n",
       "      <td>{'GOOD': '0', 'SAD': '0', 'ANGRY': '0', 'NEXT'...</td>\n",
       "      <td>NaN</td>\n",
       "      <td>NaN</td>\n",
       "    </tr>\n",
       "    <tr>\n",
       "      <th>2</th>\n",
       "      <td>SK그룹, CES서 신사업 기회 모색…경영진 총출동</td>\n",
       "      <td>20190101 09:00</td>\n",
       "      <td>yna</td>\n",
       "      <td>https://www.yna.co.kr/view/AKR20181231260700003</td>\n",
       "      <td>배영경기자\\n구독\\n(서울=연합뉴스) 배영경 기자 = SK이노베이션·SK텔레콤·SK...</td>\n",
       "      <td>{'GOOD': '0', 'SAD': '0', 'ANGRY': '0', 'NEXT'...</td>\n",
       "      <td>NaN</td>\n",
       "      <td>NaN</td>\n",
       "    </tr>\n",
       "  </tbody>\n",
       "</table>\n",
       "</div>"
      ],
      "text/plain": [
       "                                 Title            Date Press  \\\n",
       "0  세계 2위 휴대전화 시장 인도, 이제 중·고가 제품에 눈 돌린다  20190101 15:36   yna   \n",
       "1            [부고] 홍현칠(삼성전자 서남아총괄)씨 부친상  20190101 14:53   yna   \n",
       "2         SK그룹, CES서 신사업 기회 모색…경영진 총출동  20190101 09:00   yna   \n",
       "\n",
       "                                              Link  \\\n",
       "0  https://www.yna.co.kr/view/AKR20190101051400077   \n",
       "1  https://www.yna.co.kr/view/AKR20190101048900077   \n",
       "2  https://www.yna.co.kr/view/AKR20181231260700003   \n",
       "\n",
       "                                                Body  \\\n",
       "0  김영현기자\\n구독\\n\"저가에서 고급 브랜드로 관심 옮겨…5년간 4배 성장 예상\"\\n...   \n",
       "1  김영현기자\\n구독\\n▲ 홍선기씨 별세, 홍현구·현칠(삼성전자 서남아총괄 부사장)·현...   \n",
       "2  배영경기자\\n구독\\n(서울=연합뉴스) 배영경 기자 = SK이노베이션·SK텔레콤·SK...   \n",
       "\n",
       "                                             Emotion  Num_comment AI Summary  \n",
       "0  {'GOOD': '0', 'SAD': '0', 'ANGRY': '0', 'NEXT'...          NaN        NaN  \n",
       "1  {'GOOD': '0', 'SAD': '0', 'ANGRY': '0', 'NEXT'...          NaN        NaN  \n",
       "2  {'GOOD': '0', 'SAD': '0', 'ANGRY': '0', 'NEXT'...          NaN        NaN  "
      ]
     },
     "metadata": {},
     "output_type": "display_data"
    },
    {
     "name": "stdout",
     "output_type": "stream",
     "text": [
      "\n",
      "로드된 주가 데이터: 2856개 행\n",
      "주가 데이터 구조:\n",
      "Index(['Date', 'Time', 'Start', 'High', 'Low', 'End', 'Volume'], dtype='object')\n",
      "\n",
      "주가 데이터 샘플:\n"
     ]
    },
    {
     "data": {
      "text/html": [
       "<div>\n",
       "<style scoped>\n",
       "    .dataframe tbody tr th:only-of-type {\n",
       "        vertical-align: middle;\n",
       "    }\n",
       "\n",
       "    .dataframe tbody tr th {\n",
       "        vertical-align: top;\n",
       "    }\n",
       "\n",
       "    .dataframe thead th {\n",
       "        text-align: right;\n",
       "    }\n",
       "</style>\n",
       "<table border=\"1\" class=\"dataframe\">\n",
       "  <thead>\n",
       "    <tr style=\"text-align: right;\">\n",
       "      <th></th>\n",
       "      <th>Date</th>\n",
       "      <th>Time</th>\n",
       "      <th>Start</th>\n",
       "      <th>High</th>\n",
       "      <th>Low</th>\n",
       "      <th>End</th>\n",
       "      <th>Volume</th>\n",
       "    </tr>\n",
       "  </thead>\n",
       "  <tbody>\n",
       "    <tr>\n",
       "      <th>0</th>\n",
       "      <td>20250305</td>\n",
       "      <td>0</td>\n",
       "      <td>55100</td>\n",
       "      <td>55400</td>\n",
       "      <td>54200</td>\n",
       "      <td>54300</td>\n",
       "      <td>6367338</td>\n",
       "    </tr>\n",
       "    <tr>\n",
       "      <th>1</th>\n",
       "      <td>20250304</td>\n",
       "      <td>0</td>\n",
       "      <td>53900</td>\n",
       "      <td>55000</td>\n",
       "      <td>53800</td>\n",
       "      <td>54500</td>\n",
       "      <td>18553933</td>\n",
       "    </tr>\n",
       "    <tr>\n",
       "      <th>2</th>\n",
       "      <td>20250228</td>\n",
       "      <td>0</td>\n",
       "      <td>55400</td>\n",
       "      <td>55700</td>\n",
       "      <td>54500</td>\n",
       "      <td>54500</td>\n",
       "      <td>28036698</td>\n",
       "    </tr>\n",
       "  </tbody>\n",
       "</table>\n",
       "</div>"
      ],
      "text/plain": [
       "       Date  Time  Start   High    Low    End    Volume\n",
       "0  20250305     0  55100  55400  54200  54300   6367338\n",
       "1  20250304     0  53900  55000  53800  54500  18553933\n",
       "2  20250228     0  55400  55700  54500  54500  28036698"
      ]
     },
     "metadata": {},
     "output_type": "display_data"
    }
   ],
   "source": [
    "# 데이터 경로 설정\n",
    "NEWS_DATA_PATH = 'data/news/yna_005930_all.csv'\n",
    "STOCK_DATA_PATH = 'data/stock/stockprice_005930.csv'\n",
    "\n",
    "# 뉴스 데이터 로드\n",
    "news_df = pd.read_csv(NEWS_DATA_PATH)\n",
    "print(f\"로드된 뉴스 기사: {len(news_df)}개\")\n",
    "print(\"뉴스 데이터 구조:\")\n",
    "print(news_df.columns)\n",
    "print(\"\\n뉴스 데이터 샘플:\")\n",
    "display(news_df.head(3))\n",
    "\n",
    "# 주가 데이터 로드\n",
    "stock_df = pd.read_csv(STOCK_DATA_PATH)\n",
    "print(f\"\\n로드된 주가 데이터: {len(stock_df)}개 행\")\n",
    "print(\"주가 데이터 구조:\")\n",
    "print(stock_df.columns)\n",
    "print(\"\\n주가 데이터 샘플:\")\n",
    "display(stock_df.head(3))"
   ]
  },
  {
   "cell_type": "markdown",
   "metadata": {},
   "source": [
    "### 데이터 전처리 및 준비\n",
    "\n",
    "날짜 형식을 변환하고 데이터를 분석에 적합한 형태로 준비합니다."
   ]
  },
  {
   "cell_type": "code",
   "execution_count": 4,
   "metadata": {},
   "outputs": [
    {
     "name": "stdout",
     "output_type": "stream",
     "text": [
      "데이터 전처리 완료\n",
      "뉴스 데이터 날짜 범위: 2019-01-01 ~ 2025-03-16\n",
      "주가 데이터 날짜 범위: 2013-07-16 ~ 2025-03-05\n"
     ]
    }
   ],
   "source": [
    "# 뉴스 데이터 날짜 처리\n",
    "def process_news_date(date_str):\n",
    "    # 날짜 형식: \"20250101 18:56\"\n",
    "    date_parts = date_str.split()\n",
    "    date = date_parts[0]\n",
    "    time = date_parts[1] if len(date_parts) > 1 else \"00:00\"\n",
    "    \n",
    "    year = int(date[:4])\n",
    "    month = int(date[4:6])\n",
    "    day = int(date[6:8])\n",
    "    \n",
    "    hour, minute = map(int, time.split(':'))\n",
    "    \n",
    "    return datetime(year, month, day, hour, minute)\n",
    "\n",
    "# 주가 데이터 날짜 처리\n",
    "# def process_stock_date(date_str, time_str):\n",
    "#     # 날짜 형식: \"20250305\", 시간 형식: \"09:00\"\n",
    "#     year = int(date_str[:4])\n",
    "#     month = int(date_str[4:6])\n",
    "#     day = int(date_str[6:8])\n",
    "    \n",
    "#     hour, minute = map(int, time_str.split(':'))\n",
    "    \n",
    "#     return datetime(year, month, day, hour, minute)\n",
    "\n",
    "def process_stock_date(date_str, time_str=None):\n",
    "    year = int(date_str[:4])\n",
    "    month = int(date_str[4:6])\n",
    "    day = int(date_str[6:8])\n",
    "\n",
    "    if isinstance(time_str, str) and ':' in time_str:\n",
    "        hour, minute = map(int, time_str.split(':'))\n",
    "    else:\n",
    "        hour, minute = 0, 0\n",
    "\n",
    "    return datetime(year, month, day, hour, minute)\n",
    "\n",
    "# 뉴스 데이터 날짜 변환\n",
    "news_df['datetime'] = news_df['Date'].apply(process_news_date)\n",
    "news_df['date'] = news_df['datetime'].dt.date\n",
    "\n",
    "# 주가 데이터 날짜 변환\n",
    "stock_df['datetime'] = stock_df.apply(lambda row: process_stock_date(str(row['Date']), row['Time']), axis=1)\n",
    "stock_df['date'] = stock_df['datetime'].dt.date\n",
    "\n",
    "# 주가 데이터 사전 준비\n",
    "stock_data = {'005930': stock_df}\n",
    "\n",
    "print(\"데이터 전처리 완료\")\n",
    "print(f\"뉴스 데이터 날짜 범위: {news_df['date'].min()} ~ {news_df['date'].max()}\")\n",
    "print(f\"주가 데이터 날짜 범위: {stock_df['date'].min()} ~ {stock_df['date'].max()}\")"
   ]
  },
  {
   "cell_type": "markdown",
   "metadata": {},
   "source": [
    "## 2. 텍스트 전처리\n",
    "\n",
    "뉴스 기사의 텍스트를 전처리합니다. 이 단계에서는 다음 작업을 수행합니다:\n",
    "- 토큰화 (Mecab을 사용한 한국어 형태소 분석)\n",
    "- 불용어 제거\n",
    "- 특수 문자 및 숫자 처리\n",
    "- 키워드 추출"
   ]
  },
  {
   "cell_type": "code",
   "execution_count": 5,
   "metadata": {},
   "outputs": [
    {
     "name": "stderr",
     "output_type": "stream",
     "text": [
      "2025-03-27 16:40:44,870 - src.data.text_preprocessor - INFO - Initialized Mecab tokenizer\n",
      "2025-03-27 16:40:44,956 - src.data.text_preprocessor - INFO - Initialized 399 stopwords\n",
      "2025-03-27 16:40:44,956 - src.data.text_preprocessor - INFO - Initialized TextPreprocessor with language=ko, use_mecab=True\n"
     ]
    },
    {
     "name": "stdout",
     "output_type": "stream",
     "text": [
      "원본 텍스트 샘플:\n",
      "김영현기자\n",
      "구독\n",
      "\"저가에서 고급 브랜드로 관심 옮겨…5년간 4배 성장 예상\"\n",
      "이미지 확대\n",
      "갤럭시 노트9으로 셀피 찍는 인도 시민들\n",
      "(서울=연합뉴스) 삼성전자가 2018년 9월 11일(현지시간) 인도 방갈로르에 모바일 체험 스토어 '삼성 오페라 하우스'를 개관했다. 방문객들이 '갤럭시 노트9'의 S펜 블루투스 기능을 이용해 셀피를 촬영하고 있다. 2018.9.11 [삼성전자 제공]\n",
      "(뉴델리=연합뉴스) 김영현 특파원 = 세계 2위의 휴대전화 판매 시장인 인도의 소비자가 이제 저가 제품을 뛰어넘어 중·고가 브랜드에 지갑을 연다는 분석이  ...\n",
      "\n",
      "전처리된 텍스트:\n",
      "김영현 구독 고급 브랜드 관심 옮겨 성장 이미지 확대 갤럭시 노트 셀피 인도 시민 서울 연합뉴스 삼성전자 현지 시간 인도 방갈로르 모바일 체험 스토어 삼성 오페라 하우스 개관 방문객 갤럭시 노트 블루투스 기능 이용 셀피 촬영 삼성전자 제공 뉴델리 연합뉴스 김영현 특파원 세계 휴대 전화 판매 인도 소비자 제품 뛰어넘 브랜드 지갑 연다는 나왔 인도 일간 코노 타임스 전문가 인용 천만 팔려 전년 성장 현지 스마트폰 성장 기록 신문 루피 이하 제품 위주 인도 스마트폰 소득 수준 향상 힘입 고급 제품 확대 조사 업체 카운터포인트 리서치 타룬 ...\n",
      "\n",
      "추출된 키워드:\n",
      "['인도', '브랜드', '휴대', '전화', '제품', '성장', '확대', '삼성전자', '갤럭시', '스마트폰']\n"
     ]
    }
   ],
   "source": [
    "# 텍스트 전처리기 초기화\n",
    "text_preprocessor = TextPreprocessor(\n",
    "    language='ko',\n",
    "    use_mecab=True,\n",
    "    remove_stopwords=True,\n",
    "    min_token_length=2\n",
    ")\n",
    "\n",
    "# 전처리 예시 - 단일 텍스트\n",
    "sample_text = news_df.iloc[0]['Body']\n",
    "print(\"원본 텍스트 샘플:\")\n",
    "print(sample_text[:300], \"...\")\n",
    "\n",
    "processed_text = text_preprocessor.preprocess_text(sample_text)\n",
    "print(\"\\n전처리된 텍스트:\")\n",
    "print(processed_text[:300], \"...\")\n",
    "\n",
    "# 키워드 추출 예시\n",
    "keywords = text_preprocessor.extract_keywords(sample_text, top_n=10)\n",
    "print(\"\\n추출된 키워드:\")\n",
    "print(keywords)"
   ]
  },
  {
   "cell_type": "markdown",
   "metadata": {},
   "source": [
    "### 전체 뉴스 데이터 전처리\n",
    "\n",
    "이제 전체 뉴스 데이터셋에 전처리를 적용합니다."
   ]
  },
  {
   "cell_type": "code",
   "execution_count": 6,
   "metadata": {},
   "outputs": [
    {
     "name": "stderr",
     "output_type": "stream",
     "text": [
      "2025-03-27 16:40:44,967 - src.data.text_preprocessor - INFO - Preprocessing 32208 articles\n"
     ]
    },
    {
     "name": "stdout",
     "output_type": "stream",
     "text": [
      "전체 뉴스 데이터 전처리 중...\n"
     ]
    },
    {
     "name": "stderr",
     "output_type": "stream",
     "text": [
      "2025-03-27 16:40:45,718 - src.data.text_preprocessor - INFO - Preprocessed Title column\n",
      "2025-03-27 16:40:45,863 - src.data.text_preprocessor - INFO - Using AI Summary when available, falling back to Body\n",
      "2025-03-27 16:41:01,515 - src.data.text_preprocessor - INFO - Preprocessing complete for 32208 articles\n",
      "2025-03-27 16:41:01,516 - src.data.text_preprocessor - INFO - Extracting keywords from 32208 articles\n",
      "2025-03-27 16:41:08,361 - src.data.text_preprocessor - INFO - Extracted keywords for 32208 articles\n"
     ]
    },
    {
     "name": "stdout",
     "output_type": "stream",
     "text": [
      "전처리 완료\n",
      "전처리된 기사: 32208개\n",
      "\n",
      "전처리된 데이터 샘플:\n"
     ]
    },
    {
     "data": {
      "text/html": [
       "<div>\n",
       "<style scoped>\n",
       "    .dataframe tbody tr th:only-of-type {\n",
       "        vertical-align: middle;\n",
       "    }\n",
       "\n",
       "    .dataframe tbody tr th {\n",
       "        vertical-align: top;\n",
       "    }\n",
       "\n",
       "    .dataframe thead th {\n",
       "        text-align: right;\n",
       "    }\n",
       "</style>\n",
       "<table border=\"1\" class=\"dataframe\">\n",
       "  <thead>\n",
       "    <tr style=\"text-align: right;\">\n",
       "      <th></th>\n",
       "      <th>Title</th>\n",
       "      <th>processed_title</th>\n",
       "      <th>keywords</th>\n",
       "    </tr>\n",
       "  </thead>\n",
       "  <tbody>\n",
       "    <tr>\n",
       "      <th>0</th>\n",
       "      <td>세계 2위 휴대전화 시장 인도, 이제 중·고가 제품에 눈 돌린다</td>\n",
       "      <td>세계 휴대 전화 인도 이제 제품 돌린다</td>\n",
       "      <td>[인도, 브랜드, 휴대, 전화, 제품, 성장, 확대, 삼성전자, 갤럭시, 스마트폰]</td>\n",
       "    </tr>\n",
       "    <tr>\n",
       "      <th>1</th>\n",
       "      <td>[부고] 홍현칠(삼성전자 서남아총괄)씨 부친상</td>\n",
       "      <td>부고 홍현칠 삼성전자 총괄 부친상</td>\n",
       "      <td>[오전, 서울, 송고, 김영현, 구독, 홍선기, 별세, 홍현, 성전, 총괄]</td>\n",
       "    </tr>\n",
       "    <tr>\n",
       "      <th>2</th>\n",
       "      <td>SK그룹, CES서 신사업 기회 모색…경영진 총출동</td>\n",
       "      <td>신사업 기회 모색 경영진 총출동</td>\n",
       "      <td>[사장, 부스, 텔레콤, 관계사, 글로벌, 전시, 공동, 예정, 이노베이션, 하이닉스]</td>\n",
       "    </tr>\n",
       "  </tbody>\n",
       "</table>\n",
       "</div>"
      ],
      "text/plain": [
       "                                 Title        processed_title  \\\n",
       "0  세계 2위 휴대전화 시장 인도, 이제 중·고가 제품에 눈 돌린다  세계 휴대 전화 인도 이제 제품 돌린다   \n",
       "1            [부고] 홍현칠(삼성전자 서남아총괄)씨 부친상     부고 홍현칠 삼성전자 총괄 부친상   \n",
       "2         SK그룹, CES서 신사업 기회 모색…경영진 총출동      신사업 기회 모색 경영진 총출동   \n",
       "\n",
       "                                           keywords  \n",
       "0    [인도, 브랜드, 휴대, 전화, 제품, 성장, 확대, 삼성전자, 갤럭시, 스마트폰]  \n",
       "1        [오전, 서울, 송고, 김영현, 구독, 홍선기, 별세, 홍현, 성전, 총괄]  \n",
       "2  [사장, 부스, 텔레콤, 관계사, 글로벌, 전시, 공동, 예정, 이노베이션, 하이닉스]  "
      ]
     },
     "metadata": {},
     "output_type": "display_data"
    }
   ],
   "source": [
    "# 전체 뉴스 데이터 전처리\n",
    "print(\"전체 뉴스 데이터 전처리 중...\")\n",
    "\n",
    "# 제목 및 본문 전처리\n",
    "preprocessed_df = text_preprocessor.preprocess_dataframe(\n",
    "    news_df,\n",
    "    title_col='Title',\n",
    "    body_col='Body',\n",
    "    summary_col='AI Summary',\n",
    "    use_summary=True\n",
    ")\n",
    "\n",
    "# 키워드 추출\n",
    "preprocessed_df = text_preprocessor.extract_keywords_from_df(\n",
    "    preprocessed_df,\n",
    "    text_col='processed_content',\n",
    "    top_n=10\n",
    ")\n",
    "\n",
    "print(\"전처리 완료\")\n",
    "print(f\"전처리된 기사: {len(preprocessed_df)}개\")\n",
    "print(\"\\n전처리된 데이터 샘플:\")\n",
    "display(preprocessed_df[['Title', 'processed_title', 'keywords']].head(3))"
   ]
  },
  {
   "cell_type": "markdown",
   "metadata": {},
   "source": [
    "## 3. 뉴스 벡터화\n",
    "\n",
    "전처리된 뉴스 기사를 벡터 표현으로 변환합니다. 이 단계에서는 다음 작업을 수행합니다:\n",
    "- TF-IDF 벡터화 (기본 방법)\n",
    "- 제목과 내용의 가중치 조정\n",
    "- 차원 축소 (선택 사항)\n",
    "\n",
    "### 벡터화 방법 설명\n",
    "\n",
    "TF-IDF(Term Frequency-Inverse Document Frequency)는 문서 집합에서 단어의 중요도를 계산하는 방법입니다.\n",
    "- TF(Term Frequency): 특정 단어가 문서에 등장하는 빈도\n",
    "- IDF(Inverse Document Frequency): 전체 문서 집합에서 특정 단어를 포함하는 문서의 수에 반비례하는 값\n",
    "\n",
    "수식:\n",
    "- $TF(t, d) = \\frac{\\text{단어 t가 문서 d에 등장한 횟수}}{\\text{문서 d의 총 단어 수}}$\n",
    "- $IDF(t) = \\log\\frac{\\text{전체 문서 수}}{\\text{단어 t가 등장한 문서 수}}$\n",
    "- $TFIDF(t, d) = TF(t, d) \\times IDF(t)$"
   ]
  },
  {
   "cell_type": "code",
   "execution_count": 7,
   "metadata": {},
   "outputs": [
    {
     "name": "stderr",
     "output_type": "stream",
     "text": [
      "2025-03-27 16:41:08,372 - src.models.news_vectorizer - WARNING - GPU requested but not available, falling back to CPU\n",
      "2025-03-27 16:41:08,372 - src.models.news_vectorizer - INFO - Initialized TF-IDF vectorizer with max_features=10000\n",
      "2025-03-27 16:41:08,373 - src.models.news_vectorizer - INFO - Initialized NewsVectorizer with method=tfidf, max_features=10000\n",
      "2025-03-27 16:41:08,373 - src.models.news_vectorizer - INFO - Vectorizing 32208 articles using tfidf\n"
     ]
    },
    {
     "name": "stdout",
     "output_type": "stream",
     "text": [
      "뉴스 기사 벡터화 중...\n"
     ]
    },
    {
     "name": "stderr",
     "output_type": "stream",
     "text": [
      "2025-03-27 16:41:08,952 - src.models.news_vectorizer - INFO - Combined processed_title and processed_content with title weight 2.0\n",
      "2025-03-27 16:41:08,953 - src.models.news_vectorizer - INFO - Fitting tfidf vectorizer on 32208 documents\n",
      "2025-03-27 16:41:14,345 - src.models.news_vectorizer - INFO - TF-IDF vectorizer fitted with vocabulary size: 10000\n",
      "2025-03-27 16:41:16,311 - src.models.news_vectorizer - INFO - Saved tfidf vectorizer model to /Users/hwangchiung/CLEAR/models/vectorizers/tfidf_vectorizer.joblib\n",
      "2025-03-27 16:41:16,312 - src.models.news_vectorizer - INFO - Transforming 32208 documents using tfidf\n",
      "2025-03-27 16:41:19,088 - src.models.news_vectorizer - INFO - Transformed 32208 documents to shape (32208, 10000)\n",
      "2025-03-27 16:41:19,088 - src.models.news_vectorizer - INFO - Reducing dimensions from 10000 to 100\n",
      "2025-03-27 16:41:23,178 - src.models.news_vectorizer - INFO - Saved SVD model to /Users/hwangchiung/CLEAR/models/vectorizers/tfidf_svd_model.joblib\n",
      "2025-03-27 16:41:23,179 - src.models.news_vectorizer - INFO - Reduced vectors to shape (32208, 100)\n",
      "2025-03-27 16:41:23,185 - src.models.news_vectorizer - INFO - Vectorization complete for 32208 articles\n"
     ]
    },
    {
     "name": "stdout",
     "output_type": "stream",
     "text": [
      "벡터화 완료\n",
      "벡터화된 기사: 32208개\n",
      "벡터 차원: 100\n"
     ]
    },
    {
     "data": {
      "image/png": "[encoded data removed]",
      "text/plain": [
       "<Figure size 1200x500 with 1 Axes>"
      ]
     },
     "metadata": {},
     "output_type": "display_data"
    }
   ],
   "source": [
    "# 뉴스 벡터화기 초기화\n",
    "news_vectorizer = NewsVectorizer(\n",
    "    method='tfidf',\n",
    "    max_features=10000,\n",
    "    embedding_dim=300,\n",
    "    use_gpu=True,\n",
    "    title_weight=2.0\n",
    ")\n",
    "\n",
    "# 벡터화 수행\n",
    "print(\"뉴스 기사 벡터화 중...\")\n",
    "vectorized_df = news_vectorizer.vectorize_articles(\n",
    "    preprocessed_df,\n",
    "    content_col='processed_content',\n",
    "    title_col='processed_title',\n",
    "    combine_title_content=True,\n",
    "    reduce_dims=True,\n",
    "    n_components=100\n",
    ")\n",
    "\n",
    "print(\"벡터화 완료\")\n",
    "print(f\"벡터화된 기사: {len(vectorized_df)}개\")\n",
    "\n",
    "# 벡터 차원 확인\n",
    "vector_sample = vectorized_df['vector'].iloc[0]\n",
    "print(f\"벡터 차원: {len(vector_sample)}\")\n",
    "\n",
    "# 벡터 시각화 (처음 10개 차원)\n",
    "plt.figure(figsize=(12, 5))\n",
    "plt.bar(range(10), vector_sample[:10])\n",
    "plt.title('Vector of first news(10 truncated)')\n",
    "plt.xlabel('dim_index')\n",
    "plt.ylabel('value')\n",
    "plt.show()"
   ]
  },
  {
   "cell_type": "markdown",
   "metadata": {},
   "source": [
    "### 벡터 유사도 시각화\n",
    "\n",
    "기사 간의 유사도를 시각화하여 벡터화의 효과를 확인합니다."
   ]
  },
  {
   "cell_type": "code",
   "execution_count": 8,
   "metadata": {},
   "outputs": [
    {
     "data": {
      "image/png": "[encoded data removed]",
      "text/plain": [
       "<Figure size 1000x800 with 2 Axes>"
      ]
     },
     "metadata": {},
     "output_type": "display_data"
    },
    {
     "name": "stdout",
     "output_type": "stream",
     "text": [
      "가장 유사한 기사 쌍: 2번과 5번 (유사도: 0.6061)\n",
      "\n",
      "기사 2번 제목: SK그룹, CES서 신사업 기회 모색…경영진 총출동, URL: https://www.yna.co.kr/view/AKR20181231260700003\n",
      "기사 5번 제목: [2019 산업] 도전 산적한 반도체…다음 신성장 먹거리는, URL: https://www.yna.co.kr/view/AKR20181231255700003\n"
     ]
    }
   ],
   "source": [
    "from sklearn.metrics.pairwise import cosine_similarity\n",
    "\n",
    "# 샘플 기사 선택 (처음 10개)\n",
    "sample_vectors = np.array(vectorized_df['vector'].iloc[:10].tolist())\n",
    "\n",
    "# 코사인 유사도 계산\n",
    "similarity_matrix = cosine_similarity(sample_vectors)\n",
    "\n",
    "# 유사도 히트맵 시각화\n",
    "plt.figure(figsize=(10, 8))\n",
    "sns.heatmap(similarity_matrix, annot=True, cmap='YlGnBu', vmin=0, vmax=1)\n",
    "plt.title('기사 간 코사인 유사도')\n",
    "plt.xlabel('기사 인덱스')\n",
    "plt.ylabel('기사 인덱스')\n",
    "plt.show()\n",
    "\n",
    "# 가장 유사한 기사 쌍 찾기\n",
    "np.fill_diagonal(similarity_matrix, 0)  # 자기 자신과의 유사도 제외\n",
    "max_sim_idx = np.unravel_index(np.argmax(similarity_matrix), similarity_matrix.shape)\n",
    "print(f\"가장 유사한 기사 쌍: {max_sim_idx[0]}번과 {max_sim_idx[1]}번 (유사도: {similarity_matrix[max_sim_idx]:.4f})\")\n",
    "\n",
    "# 유사한 기사 제목 출력\n",
    "print(f\"\\n기사 {max_sim_idx[0]}번 제목: {vectorized_df['Title'].iloc[max_sim_idx[0]]}, URL: {vectorized_df['Link'].iloc[max_sim_idx[0]]}\")\n",
    "print(f\"기사 {max_sim_idx[1]}번 제목: {vectorized_df['Title'].iloc[max_sim_idx[1]]}, URL: {vectorized_df['Link'].iloc[max_sim_idx[1]]}\")"
   ]
  },
  {
   "cell_type": "markdown",
   "metadata": {},
   "source": [
    "## 4. 뉴스 클러스터링\n",
    "\n",
    "벡터화된 뉴스 기사를 클러스터링하여 유사한 기사를 그룹화합니다. 이 단계에서는 다음 작업을 수행합니다:\n",
    "- 계층적 응집 클러스터링 (HAC) 적용\n",
    "- 클러스터 주제 생성\n",
    "- 트렌드 클러스터 식별\n",
    "\n",
    "### 클러스터링 알고리즘 설명\n",
    "\n",
    "계층적 응집 클러스터링(HAC)은 네이버 AiRs 시스템에서도 사용하는 방법으로, 다음과 같은 단계로 진행됩니다:\n",
    "1. 각 기사를 개별 클러스터로 시작\n",
    "2. 가장 유사한 두 클러스터를 병합\n",
    "3. 거리 임계값에 도달할 때까지 2단계 반복\n",
    "\n",
    "거리 계산 공식 (코사인 거리):\n",
    "- $distance(A, B) = 1 - \\frac{A \\cdot B}{||A|| \\cdot ||B||}$\n",
    "\n",
    "여기서 $A$와 $B$는 기사 벡터입니다."
   ]
  },
  {
   "cell_type": "code",
   "execution_count": 9,
   "metadata": {},
   "outputs": [
    {
     "name": "stderr",
     "output_type": "stream",
     "text": [
      "2025-03-27 16:41:23,494 - src.models.news_clustering - INFO - Initialized NewsClustering with distance_threshold=0.7, min_cluster_size=2\n",
      "2025-03-27 16:41:23,495 - src.models.news_clustering - INFO - Clustering 32208 articles\n"
     ]
    },
    {
     "name": "stdout",
     "output_type": "stream",
     "text": [
      "뉴스 기사 클러스터링 중...\n"
     ]
    },
    {
     "name": "stderr",
     "output_type": "stream",
     "text": [
      "2025-03-27 16:42:03,570 - src.models.news_clustering - INFO - Splitting 42 large clusters\n",
      "2025-03-27 16:42:08,023 - src.models.news_clustering - INFO - Split large clusters, now have 1396 clusters\n",
      "2025-03-27 16:42:14,315 - src.models.news_clustering - INFO - Clustering silhouette score: 0.2159\n",
      "2025-03-27 16:42:14,315 - src.models.news_clustering - INFO - Created 1395 valid clusters\n",
      "2025-03-27 16:42:14,327 - src.models.news_clustering - INFO - Saved cluster statistics to /Users/hwangchiung/CLEAR/models/clustering/cluster_stats_20250327_164214.csv\n",
      "2025-03-27 16:42:25,006 - src.models.news_clustering - INFO - Saved cluster visualization to /Users/hwangchiung/CLEAR/models/clustering/cluster_visualization_20250327_164216.png\n"
     ]
    },
    {
     "name": "stdout",
     "output_type": "stream",
     "text": [
      "클러스터링 완료\n",
      "생성된 클러스터 수: 1396\n",
      "\n",
      "클러스터 크기 분포:\n"
     ]
    },
    {
     "data": {
      "text/plain": [
       "cluster_id\n",
       "-1     239\n",
       " 42      4\n",
       " 43     54\n",
       " 44     49\n",
       " 45     31\n",
       " 46      6\n",
       " 47     11\n",
       " 48     57\n",
       " 49     19\n",
       " 50      3\n",
       "Name: count, dtype: int64"
      ]
     },
     "metadata": {},
     "output_type": "display_data"
    },
    {
     "data": {
      "image/png": "[encoded data removed]",
      "text/plain": [
       "<Figure size 1200x600 with 1 Axes>"
      ]
     },
     "metadata": {},
     "output_type": "display_data"
    }
   ],
   "source": [
    "# 뉴스 클러스터링 초기화\n",
    "news_clustering = NewsClustering(\n",
    "    distance_threshold=0.7,  # 거리 임계값 (낮을수록 더 엄격한 클러스터링)\n",
    "    min_cluster_size=2,      # 최소 클러스터 크기\n",
    "    max_cluster_size=20,     # 최대 클러스터 크기\n",
    "    linkage='average'        # 연결 방법 (평균 연결)\n",
    ")\n",
    "\n",
    "# 클러스터링 수행\n",
    "print(\"뉴스 기사 클러스터링 중...\")\n",
    "clustered_df = news_clustering.cluster_articles(\n",
    "    vectorized_df,\n",
    "    vector_col='vector',\n",
    "    title_col='Title',\n",
    "    content_col='Body'\n",
    ")\n",
    "\n",
    "print(\"클러스터링 완료\")\n",
    "print(f\"생성된 클러스터 수: {clustered_df['cluster_id'].nunique()}\")\n",
    "\n",
    "# 클러스터 크기 분포\n",
    "cluster_sizes = clustered_df['cluster_id'].value_counts().sort_index()\n",
    "print(\"\\n클러스터 크기 분포:\")\n",
    "display(cluster_sizes.head(10))\n",
    "\n",
    "# 클러스터 크기 히스토그램\n",
    "plt.figure(figsize=(12, 6))\n",
    "sns.histplot(cluster_sizes.values, bins=20)\n",
    "plt.title('Distribution of Clusters')\n",
    "plt.xlabel('Size of Cluster')\n",
    "plt.ylabel('Num of Cluster')\n",
    "plt.show()"
   ]
  },
  {
   "cell_type": "markdown",
   "metadata": {},
   "source": [
    "### 클러스터 주제 및 내용 확인\n",
    "\n",
    "생성된 클러스터의 주제와 포함된 기사를 확인합니다."
   ]
  },
  {
   "cell_type": "code",
   "execution_count": 10,
   "metadata": {},
   "outputs": [
    {
     "name": "stdout",
     "output_type": "stream",
     "text": [
      "클러스터 주제 샘플:\n"
     ]
    },
    {
     "data": {
      "text/plain": [
       "cluster_id\n",
       "-1                                 \n",
       " 42    코로나19 시대…중국서 치열해지는 '중고급폰' 대결\n",
       " 43           스마트폰 화웨이 화웨이, \"화웨이 시장\n",
       " 44                tv 글로벌 연속 1위 점유율\n",
       " 45                인도 삼성, 인도서 1위 2위\n",
       "Name: cluster_topic, dtype: object"
      ]
     },
     "metadata": {},
     "output_type": "display_data"
    },
    {
     "name": "stdout",
     "output_type": "stream",
     "text": [
      "\n",
      "클러스터 856번 (주제: 코스피 코스피, 매수에 만에 매도에)의 기사:\n"
     ]
    },
    {
     "data": {
      "text/html": [
       "<div>\n",
       "<style scoped>\n",
       "    .dataframe tbody tr th:only-of-type {\n",
       "        vertical-align: middle;\n",
       "    }\n",
       "\n",
       "    .dataframe tbody tr th {\n",
       "        vertical-align: top;\n",
       "    }\n",
       "\n",
       "    .dataframe thead th {\n",
       "        text-align: right;\n",
       "    }\n",
       "</style>\n",
       "<table border=\"1\" class=\"dataframe\">\n",
       "  <thead>\n",
       "    <tr style=\"text-align: right;\">\n",
       "      <th></th>\n",
       "      <th>Title</th>\n",
       "      <th>Date</th>\n",
       "      <th>Press</th>\n",
       "    </tr>\n",
       "  </thead>\n",
       "  <tbody>\n",
       "    <tr>\n",
       "      <th>12</th>\n",
       "      <td>새해 첫 거래일 코스피 2,010선 '털썩'…두달만의 최저(종합2보)</td>\n",
       "      <td>20190102 16:12</td>\n",
       "      <td>yna</td>\n",
       "    </tr>\n",
       "    <tr>\n",
       "      <th>31</th>\n",
       "      <td>'애플 쇼크'에 코스피 2,000선 붕괴…2년1개월 만에 최저(종합3보)</td>\n",
       "      <td>20190103 17:32</td>\n",
       "      <td>yna</td>\n",
       "    </tr>\n",
       "    <tr>\n",
       "      <th>35</th>\n",
       "      <td>'애플 쇼크'에 코스피 2,000선 붕괴…2년1개월 만에 최저(종합2보)</td>\n",
       "      <td>20190103 16:25</td>\n",
       "      <td>yna</td>\n",
       "    </tr>\n",
       "    <tr>\n",
       "      <th>58</th>\n",
       "      <td>코스피 사흘 만에 상승…기관 매수에 2,010선 회복(종합2보)</td>\n",
       "      <td>20190104 16:15</td>\n",
       "      <td>yna</td>\n",
       "    </tr>\n",
       "    <tr>\n",
       "      <th>88</th>\n",
       "      <td>이틀째 오른 코스피 2,030대 회복…코스닥도 1%대 상승(종합2보)</td>\n",
       "      <td>20190107 15:56</td>\n",
       "      <td>yna</td>\n",
       "    </tr>\n",
       "  </tbody>\n",
       "</table>\n",
       "</div>"
      ],
      "text/plain": [
       "                                       Title            Date Press\n",
       "12    새해 첫 거래일 코스피 2,010선 '털썩'…두달만의 최저(종합2보)  20190102 16:12   yna\n",
       "31  '애플 쇼크'에 코스피 2,000선 붕괴…2년1개월 만에 최저(종합3보)  20190103 17:32   yna\n",
       "35  '애플 쇼크'에 코스피 2,000선 붕괴…2년1개월 만에 최저(종합2보)  20190103 16:25   yna\n",
       "58       코스피 사흘 만에 상승…기관 매수에 2,010선 회복(종합2보)  20190104 16:15   yna\n",
       "88    이틀째 오른 코스피 2,030대 회복…코스닥도 1%대 상승(종합2보)  20190107 15:56   yna"
      ]
     },
     "metadata": {},
     "output_type": "display_data"
    }
   ],
   "source": [
    "# 클러스터 주제 확인\n",
    "cluster_topics = clustered_df.groupby('cluster_id')['cluster_topic'].first()\n",
    "print(\"클러스터 주제 샘플:\")\n",
    "display(cluster_topics.head(5))\n",
    "\n",
    "# 클러스터별 크기 확인\n",
    "cluster_sizes = clustered_df['cluster_id'].value_counts()\n",
    "\n",
    "# 특정 클러스터 기사 확인 (가장 큰 클러스터 예시)\n",
    "sample_cluster_id = cluster_sizes.index[0]\n",
    "sample_cluster = clustered_df[clustered_df['cluster_id'] == sample_cluster_id]\n",
    "\n",
    "print(f\"\\n클러스터 {sample_cluster_id}번 (주제: {sample_cluster['cluster_topic'].iloc[0]})의 기사:\")\n",
    "display(sample_cluster[['Title', 'Date', 'Press']].head())"
   ]
  },
  {
   "cell_type": "markdown",
   "metadata": {},
   "source": [
    "### 트렌드 클러스터 식별\n",
    "\n",
    "최근 24시간 내에 많은 기사가 포함된 클러스터를 트렌드 클러스터로 식별합니다."
   ]
  },
  {
   "cell_type": "code",
   "execution_count": 11,
   "metadata": {},
   "outputs": [
    {
     "name": "stderr",
     "output_type": "stream",
     "text": [
      "2025-03-27 16:42:25,133 - src.models.news_clustering - INFO - Identifying trending clusters in the last 168 hours\n",
      "2025-03-27 16:42:26,121 - src.models.news_clustering - WARNING - No articles found within the last 168 hours\n"
     ]
    },
    {
     "name": "stdout",
     "output_type": "stream",
     "text": [
      "식별된 트렌드 클러스터: 0개\n",
      "\n",
      "트렌드 클러스터 주제:\n"
     ]
    }
   ],
   "source": [
    "# 트렌드 클러스터 식별\n",
    "trending_clusters = news_clustering.get_trending_clusters(\n",
    "    clustered_df,\n",
    "    timeframe_hours=168,\n",
    "    min_articles=2\n",
    ")\n",
    "\n",
    "print(f\"식별된 트렌드 클러스터: {len(trending_clusters)}개\")\n",
    "\n",
    "print(\"\\n트렌드 클러스터 주제:\")\n",
    "for cluster_id in trending_clusters:\n",
    "    topic = clustered_df.loc[clustered_df['cluster_id'] == cluster_id, 'cluster_topic'].iloc[0]\n",
    "    count = (clustered_df['cluster_id'] == cluster_id).sum()\n",
    "    print(f\"클러스터 {cluster_id}번: {topic} (기사 {count}개)\")"
   ]
  },
  {
   "cell_type": "markdown",
   "metadata": {},
   "source": [
    "## 5. 주가 영향 분석\n",
    "\n",
    "뉴스 기사가 주가에 미치는 영향을 분석합니다. 이 단계는 네이버 AiRs의 개인화 구성 요소를 대체하는 CLEAR 시스템의 핵심 부분입니다.\n",
    "\n",
    "### 영향 분석 방법 설명\n",
    "\n",
    "주가 영향 분석은 다음 단계로 진행됩니다:\n",
    "1. 각 뉴스 기사에 대해 발행 시간 식별\n",
    "2. 여러 시간 윈도우(즉시, 단기, 중기)에서 주가 변화 계산\n",
    "3. 가격 및 거래량 변화를 기반으로 영향 점수 계산\n",
    "\n",
    "영향 점수 계산 공식:\n",
    "- $Impact_{price} = \\frac{Price_{after} - Price_{before}}{Price_{before}} \\times 100$\n",
    "- $Impact_{volume} = \\frac{Volume_{after} - Volume_{avg}}{Volume_{avg}} \\times 100$\n",
    "- $Impact_{total} = w_{price} \\times Impact_{price} + w_{volume} \\times Impact_{volume}$\n",
    "\n",
    "최종 영향 점수는 -5에서 +5 사이의 척도로 정규화됩니다."
   ]
  },
  {
   "cell_type": "code",
   "execution_count": 12,
   "metadata": {},
   "outputs": [
    {
     "name": "stderr",
     "output_type": "stream",
     "text": [
      "2025-03-27 16:42:26,135 - src.models.stock_impact_analyzer - WARNING - GPU requested but not available, falling back to CPU\n",
      "2025-03-27 16:42:26,136 - src.models.stock_impact_analyzer - INFO - Initialized StockImpactAnalyzer with 3 time windows\n",
      "2025-03-27 16:42:26,136 - src.models.stock_impact_analyzer - INFO - Analyzing impact for 32208 news articles\n"
     ]
    },
    {
     "name": "stdout",
     "output_type": "stream",
     "text": [
      "주가 영향 분석 중...\n"
     ]
    },
    {
     "name": "stderr",
     "output_type": "stream",
     "text": [
      "2025-03-27 16:42:28,160 - src.models.stock_impact_analyzer - INFO - Completed impact analysis for 32208 articles\n",
      "2025-03-27 16:42:36,904 - src.models.stock_impact_analyzer - INFO - Saved impact results to /Users/hwangchiung/CLEAR/models/stock_impact/impact_results_20250327_164228.csv\n"
     ]
    },
    {
     "name": "stdout",
     "output_type": "stream",
     "text": [
      "영향 분석 완료\n",
      "영향 점수가 계산된 기사: 32208개\n"
     ]
    },
    {
     "data": {
      "image/png": "[encoded data removed]",
      "text/plain": [
       "<Figure size 1200x600 with 1 Axes>"
      ]
     },
     "metadata": {},
     "output_type": "display_data"
    },
    {
     "name": "stdout",
     "output_type": "stream",
     "text": [
      "\n",
      "영향 점수 통계:\n"
     ]
    },
    {
     "data": {
      "text/plain": [
       "count    32208.0\n",
       "mean         0.0\n",
       "std          0.0\n",
       "min          0.0\n",
       "25%          0.0\n",
       "50%          0.0\n",
       "75%          0.0\n",
       "max          0.0\n",
       "Name: impact_score, dtype: float64"
      ]
     },
     "metadata": {},
     "output_type": "display_data"
    }
   ],
   "source": [
    "# 주가 영향 분석기 초기화\n",
    "impact_analyzer = StockImpactAnalyzer(\n",
    "    time_windows=[\n",
    "        {\"name\": \"immediate\", \"hours\": 1},\n",
    "        {\"name\": \"short_term\", \"hours\": 24},\n",
    "        {\"name\": \"medium_term\", \"days\": 3}\n",
    "    ],\n",
    "    impact_thresholds={\n",
    "        \"high\": 0.02,    # 2% 가격 변동\n",
    "        \"medium\": 0.01,  # 1% 가격 변동\n",
    "        \"low\": 0.005     # 0.5% 가격 변동\n",
    "    },\n",
    "    use_gpu=True\n",
    ")\n",
    "\n",
    "# 영향 분석 수행\n",
    "print(\"주가 영향 분석 중...\")\n",
    "impact_df = impact_analyzer.analyze_news_impact(\n",
    "    clustered_df,\n",
    "    stock_data\n",
    ")\n",
    "\n",
    "print(\"영향 분석 완료\")\n",
    "print(f\"영향 점수가 계산된 기사: {len(impact_df.dropna(subset=['impact_score']))}개\")\n",
    "\n",
    "# 영향 점수 분포\n",
    "plt.figure(figsize=(12, 6))\n",
    "sns.histplot(impact_df['impact_score'].dropna(), bins=20, kde=True)\n",
    "plt.title('Distribution of Stock Price Impact')\n",
    "plt.xlabel('Impact Score (-5 ~ +5)')\n",
    "plt.ylabel('Number of Articles')\n",
    "plt.axvline(x=0, color='r', linestyle='--')\n",
    "plt.show()\n",
    "\n",
    "# 영향 점수 통계\n",
    "impact_stats = impact_df['impact_score'].describe()\n",
    "print(\"\\n영향 점수 통계:\")\n",
    "display(impact_stats)"
   ]
  },
  {
   "cell_type": "markdown",
   "metadata": {},
   "source": [
    "### 영향 예측 모델 훈련\n",
    "\n",
    "과거 데이터를 기반으로 뉴스 기사의 주가 영향을 예측하는 모델을 훈련합니다."
   ]
  },
  {
   "cell_type": "code",
   "execution_count": 13,
   "metadata": {},
   "outputs": [
    {
     "name": "stderr",
     "output_type": "stream",
     "text": [
      "2025-03-27 16:42:37,055 - src.models.stock_impact_analyzer - INFO - Training random_forest impact prediction model on 32208 articles\n"
     ]
    },
    {
     "name": "stdout",
     "output_type": "stream",
     "text": [
      "영향 예측 모델 훈련 중...\n"
     ]
    },
    {
     "name": "stderr",
     "output_type": "stream",
     "text": [
      "2025-03-27 16:42:37,972 - src.models.stock_impact_analyzer - INFO - Saved impact model to /Users/hwangchiung/CLEAR/models/stock_impact/impact_model_random_forest.joblib\n",
      "2025-03-27 16:42:37,973 - src.models.stock_impact_analyzer - INFO - Trained random_forest impact model with 1372 features\n",
      "2025-03-27 16:42:37,977 - src.models.stock_impact_analyzer - INFO - Predicting impact for 32208 articles\n",
      "2025-03-27 16:42:38,796 - src.models.stock_impact_analyzer - INFO - Predicted impact for 32208 articles\n"
     ]
    },
    {
     "name": "stdout",
     "output_type": "stream",
     "text": [
      "예측 완료\n",
      "예측된 영향 점수가 있는 기사: 32208개\n"
     ]
    },
    {
     "data": {
      "image/png": "[encoded data removed]",
      "text/plain": [
       "<Figure size 1000x800 with 1 Axes>"
      ]
     },
     "metadata": {},
     "output_type": "display_data"
    },
    {
     "name": "stdout",
     "output_type": "stream",
     "text": [
      "\n",
      "예측 성능 지표:\n",
      "RMSE: 0.0000\n",
      "MAE: 0.0000\n",
      "R²: 1.0000\n"
     ]
    }
   ],
   "source": [
    "# 영향 예측 모델 훈련\n",
    "print(\"영향 예측 모델 훈련 중...\")\n",
    "impact_analyzer.train_impact_model(\n",
    "    impact_df,\n",
    "    stock_data,\n",
    "    model_type='random_forest'\n",
    ")\n",
    "\n",
    "# 예측 수행\n",
    "impact_df = impact_analyzer.predict_impact(\n",
    "    impact_df,\n",
    "    # include_features=True\n",
    ")\n",
    "\n",
    "print(\"예측 완료\")\n",
    "print(f\"예측된 영향 점수가 있는 기사: {len(impact_df.dropna(subset=['predicted_impact']))}개\")\n",
    "\n",
    "# 실제 vs 예측 영향 점수 비교\n",
    "valid_impact_df = impact_df.dropna(subset=['impact_score', 'predicted_impact'])\n",
    "\n",
    "plt.figure(figsize=(10, 8))\n",
    "plt.scatter(valid_impact_df['impact_score'], valid_impact_df['predicted_impact'], alpha=0.6)\n",
    "plt.plot([-5, 5], [-5, 5], 'r--')\n",
    "plt.title('실제 vs 예측 영향 점수')\n",
    "plt.xlabel('실제 영향 점수')\n",
    "plt.ylabel('예측 영향 점수')\n",
    "plt.xlim(-5, 5)\n",
    "plt.ylim(-5, 5)\n",
    "plt.grid(True)\n",
    "plt.show()\n",
    "\n",
    "# 예측 성능 지표\n",
    "from sklearn.metrics import mean_squared_error, mean_absolute_error, r2_score\n",
    "\n",
    "y_true = valid_impact_df['impact_score']\n",
    "y_pred = valid_impact_df['predicted_impact']\n",
    "\n",
    "mse = mean_squared_error(y_true, y_pred)\n",
    "rmse = np.sqrt(mse)\n",
    "mae = mean_absolute_error(y_true, y_pred)\n",
    "r2 = r2_score(y_true, y_pred)\n",
    "\n",
    "print(\"\\n예측 성능 지표:\")\n",
    "print(f\"RMSE: {rmse:.4f}\")\n",
    "print(f\"MAE: {mae:.4f}\")\n",
    "print(f\"R²: {r2:.4f}\")"
   ]
  },
  {
   "cell_type": "markdown",
   "metadata": {},
   "source": [
    "### 주가 영향 시각화\n",
    "\n",
    "뉴스 기사와 주가 변동 간의 관계를 시각화합니다."
   ]
  },
  {
   "cell_type": "code",
   "execution_count": 15,
   "metadata": {},
   "outputs": [
    {
     "name": "stderr",
     "output_type": "stream",
     "text": [
      "2025-03-27 16:44:51,649 - src.models.stock_impact_analyzer - INFO - Visualizing impact for ticker: 005930\n",
      "2025-03-27 16:44:52,907 - src.models.stock_impact_analyzer - INFO - Saved impact visualization to /Users/hwangchiung/CLEAR/models/stock_impact/impact_visualization_005930_20250327_164452.png\n"
     ]
    },
    {
     "name": "stdout",
     "output_type": "stream",
     "text": [
      "시각화 이미지 저장 경로: /Users/hwangchiung/CLEAR/models/stock_impact/impact_visualization_005930_20250327_164452.png\n",
      "\n",
      "영향이 가장 큰 긍정적 기사 (상위 3개):\n"
     ]
    },
    {
     "data": {
      "text/html": [
       "<div>\n",
       "<style scoped>\n",
       "    .dataframe tbody tr th:only-of-type {\n",
       "        vertical-align: middle;\n",
       "    }\n",
       "\n",
       "    .dataframe tbody tr th {\n",
       "        vertical-align: top;\n",
       "    }\n",
       "\n",
       "    .dataframe thead th {\n",
       "        text-align: right;\n",
       "    }\n",
       "</style>\n",
       "<table border=\"1\" class=\"dataframe\">\n",
       "  <thead>\n",
       "    <tr style=\"text-align: right;\">\n",
       "      <th></th>\n",
       "      <th>Title</th>\n",
       "      <th>Date</th>\n",
       "      <th>impact_score</th>\n",
       "    </tr>\n",
       "  </thead>\n",
       "  <tbody>\n",
       "    <tr>\n",
       "      <th>0</th>\n",
       "      <td>세계 2위 휴대전화 시장 인도, 이제 중·고가 제품에 눈 돌린다</td>\n",
       "      <td>2019-01-01</td>\n",
       "      <td>0.0</td>\n",
       "    </tr>\n",
       "    <tr>\n",
       "      <th>21468</th>\n",
       "      <td>삼성, 오늘 그룹 창립 85주년…별도 행사 없이 조용히</td>\n",
       "      <td>2023-03-22</td>\n",
       "      <td>0.0</td>\n",
       "    </tr>\n",
       "    <tr>\n",
       "      <th>21481</th>\n",
       "      <td>\"어려울수록 함께 성장\"…삼성전자, 4년만에 상생협력데이 열어</td>\n",
       "      <td>2023-03-23</td>\n",
       "      <td>0.0</td>\n",
       "    </tr>\n",
       "  </tbody>\n",
       "</table>\n",
       "</div>"
      ],
      "text/plain": [
       "                                     Title       Date  impact_score\n",
       "0      세계 2위 휴대전화 시장 인도, 이제 중·고가 제품에 눈 돌린다 2019-01-01           0.0\n",
       "21468       삼성, 오늘 그룹 창립 85주년…별도 행사 없이 조용히 2023-03-22           0.0\n",
       "21481   \"어려울수록 함께 성장\"…삼성전자, 4년만에 상생협력데이 열어 2023-03-23           0.0"
      ]
     },
     "metadata": {},
     "output_type": "display_data"
    },
    {
     "name": "stdout",
     "output_type": "stream",
     "text": [
      "\n",
      "영향이 가장 큰 부정적 기사 (상위 3개):\n"
     ]
    },
    {
     "data": {
      "text/html": [
       "<div>\n",
       "<style scoped>\n",
       "    .dataframe tbody tr th:only-of-type {\n",
       "        vertical-align: middle;\n",
       "    }\n",
       "\n",
       "    .dataframe tbody tr th {\n",
       "        vertical-align: top;\n",
       "    }\n",
       "\n",
       "    .dataframe thead th {\n",
       "        text-align: right;\n",
       "    }\n",
       "</style>\n",
       "<table border=\"1\" class=\"dataframe\">\n",
       "  <thead>\n",
       "    <tr style=\"text-align: right;\">\n",
       "      <th></th>\n",
       "      <th>Title</th>\n",
       "      <th>Date</th>\n",
       "      <th>impact_score</th>\n",
       "    </tr>\n",
       "  </thead>\n",
       "  <tbody>\n",
       "    <tr>\n",
       "      <th>0</th>\n",
       "      <td>세계 2위 휴대전화 시장 인도, 이제 중·고가 제품에 눈 돌린다</td>\n",
       "      <td>2019-01-01</td>\n",
       "      <td>0.0</td>\n",
       "    </tr>\n",
       "    <tr>\n",
       "      <th>21480</th>\n",
       "      <td>'연준 금리인상 종료 눈앞'…코스피 0.3% 상승·환율 29원 급락(종합)</td>\n",
       "      <td>2023-03-23</td>\n",
       "      <td>0.0</td>\n",
       "    </tr>\n",
       "    <tr>\n",
       "      <th>21479</th>\n",
       "      <td>[표] 코스피 지수선물·옵션 시세표(23일)-2</td>\n",
       "      <td>2023-03-23</td>\n",
       "      <td>0.0</td>\n",
       "    </tr>\n",
       "  </tbody>\n",
       "</table>\n",
       "</div>"
      ],
      "text/plain": [
       "                                           Title       Date  impact_score\n",
       "0            세계 2위 휴대전화 시장 인도, 이제 중·고가 제품에 눈 돌린다 2019-01-01           0.0\n",
       "21480  '연준 금리인상 종료 눈앞'…코스피 0.3% 상승·환율 29원 급락(종합) 2023-03-23           0.0\n",
       "21479                 [표] 코스피 지수선물·옵션 시세표(23일)-2 2023-03-23           0.0"
      ]
     },
     "metadata": {},
     "output_type": "display_data"
    }
   ],
   "source": [
    "# 주가 영향 시각화\n",
    "ticker = '005930'  # 삼성전자\n",
    "viz_path = impact_analyzer.visualize_impact(\n",
    "    impact_df,\n",
    "    stock_data,\n",
    "    ticker,\n",
    "    # save_path=None  # 저장하지 않고 직접 표시\n",
    ")\n",
    "\n",
    "# 시각화된 이미지 경로 출력\n",
    "print(f\"시각화 이미지 저장 경로: {viz_path}\")\n",
    "\n",
    "# 영향이 큰 상위 기사 확인\n",
    "print(\"\\n영향이 가장 큰 긍정적 기사 (상위 3개):\")\n",
    "display(impact_df.sort_values('impact_score', ascending=False)[['Title', 'Date', 'impact_score']].head(3))\n",
    "\n",
    "print(\"\\n영향이 가장 큰 부정적 기사 (상위 3개):\")\n",
    "display(impact_df.sort_values('impact_score')[['Title', 'Date', 'impact_score']].head(3))"
   ]
  },
  {
   "cell_type": "markdown",
   "metadata": {},
   "source": [
    "## 6. 뉴스 추천\n",
    "\n",
    "주가 영향 및 기타 요소를 기반으로 뉴스 기사를 추천합니다. 이 단계에서는 네이버 AiRs의 다중 요소 접근 방식을 유지하되, 개인화 대신 주가 영향에 중점을 둡니다.\n",
    "\n",
    "### 추천 알고리즘 설명\n",
    "\n",
    "CLEAR 추천 시스템은 다음 5가지 요소를 기반으로 점수를 계산합니다:\n",
    "1. **주가 영향(SI)**: AiRs의 사회적 관심도를 대체하여 중요한 재무적 영향이 있는 기사 우선순위\n",
    "2. **품질 평가(QE)**: 클러스터 크기 및 기타 지표를 기사 품질의 대리 지표로 사용\n",
    "3. **콘텐츠 기반 필터링(CBF)**: 인기 있는 금융 기사와의 유사성 측정\n",
    "4. **협업 필터링(CF)**: 기사 관계에 NPMI(정규화된 점별 상호 정보량) 사용\n",
    "5. **최신**: 시기적절한 추천을 보장하기 위해 최근 기사 우선순위\n",
    "\n",
    "최종 추천 점수 계산 공식:\n",
    "- $Score = w_{impact} \\times SI + w_{quality} \\times QE + w_{content} \\times CBF + w_{collaborative} \\times CF + w_{recency} \\times Latest$"
   ]
  },
  {
   "cell_type": "code",
   "execution_count": 16,
   "metadata": {},
   "outputs": [
    {
     "name": "stderr",
     "output_type": "stream",
     "text": [
      "2025-03-27 16:44:57,745 - src.models.news_recommender - INFO - Initialized NewsRecommender with weights: {'impact': 0.4, 'quality': 0.2, 'content': 0.2, 'collaborative': 0.1, 'recency': 0.1}\n",
      "2025-03-27 16:44:57,747 - src.models.news_recommender - INFO - Generating recommendations from 32208 articles\n",
      "2025-03-27 16:44:57,813 - src.models.news_recommender - INFO - Generated 10 recommendations\n",
      "2025-03-27 16:44:57,823 - src.models.news_recommender - INFO - Saved recommendations to /Users/hwangchiung/CLEAR/models/recommender/recommendations_20250327_164457.csv\n"
     ]
    },
    {
     "name": "stdout",
     "output_type": "stream",
     "text": [
      "뉴스 추천 생성 중...\n",
      "추천 생성 완료\n",
      "추천된 기사: 10개\n",
      "\n",
      "추천 기사 목록:\n"
     ]
    },
    {
     "data": {
      "text/html": [
       "<div>\n",
       "<style scoped>\n",
       "    .dataframe tbody tr th:only-of-type {\n",
       "        vertical-align: middle;\n",
       "    }\n",
       "\n",
       "    .dataframe tbody tr th {\n",
       "        vertical-align: top;\n",
       "    }\n",
       "\n",
       "    .dataframe thead th {\n",
       "        text-align: right;\n",
       "    }\n",
       "</style>\n",
       "<table border=\"1\" class=\"dataframe\">\n",
       "  <thead>\n",
       "    <tr style=\"text-align: right;\">\n",
       "      <th></th>\n",
       "      <th>Title</th>\n",
       "      <th>Date</th>\n",
       "      <th>recommendation_score</th>\n",
       "      <th>impact_score</th>\n",
       "      <th>cluster_topic</th>\n",
       "    </tr>\n",
       "  </thead>\n",
       "  <tbody>\n",
       "    <tr>\n",
       "      <th>32139</th>\n",
       "      <td>[연합뉴스 이 시각 헤드라인] - 07:30</td>\n",
       "      <td>2025-03-11</td>\n",
       "      <td>0.496812</td>\n",
       "      <td>0.0</td>\n",
       "      <td>[연합뉴스 시각 헤드라인] 10:30 07:30</td>\n",
       "    </tr>\n",
       "    <tr>\n",
       "      <th>31882</th>\n",
       "      <td>[연합뉴스 이 시각 헤드라인] - 10:30</td>\n",
       "      <td>2025-02-21</td>\n",
       "      <td>0.496018</td>\n",
       "      <td>0.0</td>\n",
       "      <td>[연합뉴스 시각 헤드라인] 10:30 07:30</td>\n",
       "    </tr>\n",
       "    <tr>\n",
       "      <th>31638</th>\n",
       "      <td>[연합뉴스 이 시각 헤드라인] - 07:30</td>\n",
       "      <td>2025-02-05</td>\n",
       "      <td>0.495312</td>\n",
       "      <td>0.0</td>\n",
       "      <td>[연합뉴스 시각 헤드라인] 10:30 07:30</td>\n",
       "    </tr>\n",
       "    <tr>\n",
       "      <th>31571</th>\n",
       "      <td>[연합뉴스 이 시각 헤드라인] - 18:00</td>\n",
       "      <td>2025-02-04</td>\n",
       "      <td>0.495267</td>\n",
       "      <td>0.0</td>\n",
       "      <td>[연합뉴스 시각 헤드라인] 10:30 07:30</td>\n",
       "    </tr>\n",
       "    <tr>\n",
       "      <th>31589</th>\n",
       "      <td>[연합뉴스 이 시각 헤드라인] - 14:30</td>\n",
       "      <td>2025-02-04</td>\n",
       "      <td>0.495267</td>\n",
       "      <td>0.0</td>\n",
       "      <td>[연합뉴스 시각 헤드라인] 10:30 07:30</td>\n",
       "    </tr>\n",
       "    <tr>\n",
       "      <th>31532</th>\n",
       "      <td>[연합뉴스 이 시각 헤드라인] - 18:00</td>\n",
       "      <td>2025-02-03</td>\n",
       "      <td>0.495223</td>\n",
       "      <td>0.0</td>\n",
       "      <td>[연합뉴스 시각 헤드라인] 10:30 07:30</td>\n",
       "    </tr>\n",
       "    <tr>\n",
       "      <th>31493</th>\n",
       "      <td>[연합뉴스 이 시각 헤드라인] - 10:30</td>\n",
       "      <td>2025-01-31</td>\n",
       "      <td>0.495091</td>\n",
       "      <td>0.0</td>\n",
       "      <td>[연합뉴스 시각 헤드라인] 10:30 07:30</td>\n",
       "    </tr>\n",
       "    <tr>\n",
       "      <th>31509</th>\n",
       "      <td>[연합뉴스 이 시각 헤드라인] - 07:30</td>\n",
       "      <td>2025-01-31</td>\n",
       "      <td>0.495091</td>\n",
       "      <td>0.0</td>\n",
       "      <td>[연합뉴스 시각 헤드라인] 10:30 07:30</td>\n",
       "    </tr>\n",
       "    <tr>\n",
       "      <th>31482</th>\n",
       "      <td>[연합뉴스 이 시각 헤드라인] - 14:30</td>\n",
       "      <td>2025-01-31</td>\n",
       "      <td>0.495091</td>\n",
       "      <td>0.0</td>\n",
       "      <td>[연합뉴스 시각 헤드라인] 10:30 07:30</td>\n",
       "    </tr>\n",
       "    <tr>\n",
       "      <th>31462</th>\n",
       "      <td>[연합뉴스 이 시각 헤드라인] - 15:00</td>\n",
       "      <td>2025-01-30</td>\n",
       "      <td>0.495047</td>\n",
       "      <td>0.0</td>\n",
       "      <td>[연합뉴스 시각 헤드라인] 10:30 07:30</td>\n",
       "    </tr>\n",
       "  </tbody>\n",
       "</table>\n",
       "</div>"
      ],
      "text/plain": [
       "                          Title       Date  recommendation_score  \\\n",
       "32139  [연합뉴스 이 시각 헤드라인] - 07:30 2025-03-11              0.496812   \n",
       "31882  [연합뉴스 이 시각 헤드라인] - 10:30 2025-02-21              0.496018   \n",
       "31638  [연합뉴스 이 시각 헤드라인] - 07:30 2025-02-05              0.495312   \n",
       "31571  [연합뉴스 이 시각 헤드라인] - 18:00 2025-02-04              0.495267   \n",
       "31589  [연합뉴스 이 시각 헤드라인] - 14:30 2025-02-04              0.495267   \n",
       "31532  [연합뉴스 이 시각 헤드라인] - 18:00 2025-02-03              0.495223   \n",
       "31493  [연합뉴스 이 시각 헤드라인] - 10:30 2025-01-31              0.495091   \n",
       "31509  [연합뉴스 이 시각 헤드라인] - 07:30 2025-01-31              0.495091   \n",
       "31482  [연합뉴스 이 시각 헤드라인] - 14:30 2025-01-31              0.495091   \n",
       "31462  [연합뉴스 이 시각 헤드라인] - 15:00 2025-01-30              0.495047   \n",
       "\n",
       "       impact_score               cluster_topic  \n",
       "32139           0.0  [연합뉴스 시각 헤드라인] 10:30 07:30  \n",
       "31882           0.0  [연합뉴스 시각 헤드라인] 10:30 07:30  \n",
       "31638           0.0  [연합뉴스 시각 헤드라인] 10:30 07:30  \n",
       "31571           0.0  [연합뉴스 시각 헤드라인] 10:30 07:30  \n",
       "31589           0.0  [연합뉴스 시각 헤드라인] 10:30 07:30  \n",
       "31532           0.0  [연합뉴스 시각 헤드라인] 10:30 07:30  \n",
       "31493           0.0  [연합뉴스 시각 헤드라인] 10:30 07:30  \n",
       "31509           0.0  [연합뉴스 시각 헤드라인] 10:30 07:30  \n",
       "31482           0.0  [연합뉴스 시각 헤드라인] 10:30 07:30  \n",
       "31462           0.0  [연합뉴스 시각 헤드라인] 10:30 07:30  "
      ]
     },
     "metadata": {},
     "output_type": "display_data"
    }
   ],
   "source": [
    "# 뉴스 추천기 초기화\n",
    "news_recommender = NewsRecommender(\n",
    "    weights={\n",
    "        'impact': 0.4,      # 주가 영향(SI)\n",
    "        'quality': 0.2,     # 품질 평가(QE)\n",
    "        'content': 0.2,     # 콘텐츠 기반 필터링(CBF)\n",
    "        'collaborative': 0.1, # 협업 필터링(CF)\n",
    "        'recency': 0.1      # 최신 뉴스 우선순위\n",
    "    }\n",
    ")\n",
    "\n",
    "# 기사 추천 생성\n",
    "print(\"뉴스 추천 생성 중...\")\n",
    "top_articles = news_recommender.recommend_articles(\n",
    "    impact_df,\n",
    "    top_n=10\n",
    ")\n",
    "\n",
    "print(\"추천 생성 완료\")\n",
    "print(f\"추천된 기사: {len(top_articles)}개\")\n",
    "\n",
    "# 추천 기사 확인\n",
    "print(\"\\n추천 기사 목록:\")\n",
    "display(top_articles[['Title', 'Date', 'recommendation_score', 'impact_score', 'cluster_topic']].head(10))"
   ]
  },
  {
   "cell_type": "markdown",
   "metadata": {},
   "source": [
    "### 클러스터 기반 추천\n",
    "\n",
    "클러스터 단위로 추천을 생성하여 다양한 주제의 뉴스를 제공합니다."
   ]
  },
  {
   "cell_type": "code",
   "execution_count": 20,
   "metadata": {},
   "outputs": [
    {
     "name": "stderr",
     "output_type": "stream",
     "text": [
      "2025-03-27 16:48:56,082 - src.models.news_recommender - INFO - Generating cluster recommendations from 32208 articles\n",
      "2025-03-27 16:48:56,715 - src.models.news_recommender - INFO - Generated recommendations for 5 clusters\n",
      "2025-03-27 16:48:56,737 - src.models.news_recommender - INFO - Saved recommendations for 5 clusters\n"
     ]
    },
    {
     "name": "stdout",
     "output_type": "stream",
     "text": [
      "추천된 클러스터: 5개\n",
      "\n",
      "클러스터 940번 (주제: [표] 코스피 지수선물·옵션 시세표(4일)-2 시세표(10일)-2)의 추천 기사:\n"
     ]
    },
    {
     "data": {
      "text/html": [
       "<div>\n",
       "<style scoped>\n",
       "    .dataframe tbody tr th:only-of-type {\n",
       "        vertical-align: middle;\n",
       "    }\n",
       "\n",
       "    .dataframe tbody tr th {\n",
       "        vertical-align: top;\n",
       "    }\n",
       "\n",
       "    .dataframe thead th {\n",
       "        text-align: right;\n",
       "    }\n",
       "</style>\n",
       "<table border=\"1\" class=\"dataframe\">\n",
       "  <thead>\n",
       "    <tr style=\"text-align: right;\">\n",
       "      <th></th>\n",
       "      <th>Title</th>\n",
       "      <th>Date</th>\n",
       "      <th>article_score</th>\n",
       "      <th>impact_score</th>\n",
       "    </tr>\n",
       "  </thead>\n",
       "  <tbody>\n",
       "    <tr>\n",
       "      <th>32189</th>\n",
       "      <td>[표] 코스피 지수선물·옵션 시세표(14일)-2</td>\n",
       "      <td>2025-03-14</td>\n",
       "      <td>0.50</td>\n",
       "      <td>0.0</td>\n",
       "    </tr>\n",
       "    <tr>\n",
       "      <th>32146</th>\n",
       "      <td>[표] 코스피 지수선물·옵션 시세표(12일)-2</td>\n",
       "      <td>2025-03-12</td>\n",
       "      <td>0.48</td>\n",
       "      <td>0.0</td>\n",
       "    </tr>\n",
       "    <tr>\n",
       "      <th>32122</th>\n",
       "      <td>[표] 코스피 지수선물·옵션 시세표(11일)-2</td>\n",
       "      <td>2025-03-11</td>\n",
       "      <td>0.47</td>\n",
       "      <td>0.0</td>\n",
       "    </tr>\n",
       "  </tbody>\n",
       "</table>\n",
       "</div>"
      ],
      "text/plain": [
       "                            Title       Date  article_score  impact_score\n",
       "32189  [표] 코스피 지수선물·옵션 시세표(14일)-2 2025-03-14           0.50           0.0\n",
       "32146  [표] 코스피 지수선물·옵션 시세표(12일)-2 2025-03-12           0.48           0.0\n",
       "32122  [표] 코스피 지수선물·옵션 시세표(11일)-2 2025-03-11           0.47           0.0"
      ]
     },
     "metadata": {},
     "output_type": "display_data"
    },
    {
     "name": "stdout",
     "output_type": "stream",
     "text": [
      "\n",
      "클러스터 903번 (주제: [표] 코스피 지수선물·옵션 시세표(5일)-2 시세표(6일)-2)의 추천 기사:\n"
     ]
    },
    {
     "data": {
      "text/html": [
       "<div>\n",
       "<style scoped>\n",
       "    .dataframe tbody tr th:only-of-type {\n",
       "        vertical-align: middle;\n",
       "    }\n",
       "\n",
       "    .dataframe tbody tr th {\n",
       "        vertical-align: top;\n",
       "    }\n",
       "\n",
       "    .dataframe thead th {\n",
       "        text-align: right;\n",
       "    }\n",
       "</style>\n",
       "<table border=\"1\" class=\"dataframe\">\n",
       "  <thead>\n",
       "    <tr style=\"text-align: right;\">\n",
       "      <th></th>\n",
       "      <th>Title</th>\n",
       "      <th>Date</th>\n",
       "      <th>article_score</th>\n",
       "      <th>impact_score</th>\n",
       "    </tr>\n",
       "  </thead>\n",
       "  <tbody>\n",
       "    <tr>\n",
       "      <th>32083</th>\n",
       "      <td>[표] 코스피 지수선물·옵션 시세표(7일)-2</td>\n",
       "      <td>2025-03-07</td>\n",
       "      <td>0.50</td>\n",
       "      <td>0.0</td>\n",
       "    </tr>\n",
       "    <tr>\n",
       "      <th>32059</th>\n",
       "      <td>[표] 코스피 지수선물·옵션 시세표(6일)-2</td>\n",
       "      <td>2025-03-06</td>\n",
       "      <td>0.45</td>\n",
       "      <td>0.0</td>\n",
       "    </tr>\n",
       "    <tr>\n",
       "      <th>32038</th>\n",
       "      <td>[표] 코스피 지수선물·옵션 시세표(5일)-2</td>\n",
       "      <td>2025-03-05</td>\n",
       "      <td>0.40</td>\n",
       "      <td>0.0</td>\n",
       "    </tr>\n",
       "  </tbody>\n",
       "</table>\n",
       "</div>"
      ],
      "text/plain": [
       "                           Title       Date  article_score  impact_score\n",
       "32083  [표] 코스피 지수선물·옵션 시세표(7일)-2 2025-03-07           0.50           0.0\n",
       "32059  [표] 코스피 지수선물·옵션 시세표(6일)-2 2025-03-06           0.45           0.0\n",
       "32038  [표] 코스피 지수선물·옵션 시세표(5일)-2 2025-03-05           0.40           0.0"
      ]
     },
     "metadata": {},
     "output_type": "display_data"
    },
    {
     "name": "stdout",
     "output_type": "stream",
     "text": [
      "\n",
      "클러스터 1232번 (주제: 반등 [마켓톺] 코스피 열쇠는 역시)의 추천 기사:\n"
     ]
    },
    {
     "data": {
      "text/html": [
       "<div>\n",
       "<style scoped>\n",
       "    .dataframe tbody tr th:only-of-type {\n",
       "        vertical-align: middle;\n",
       "    }\n",
       "\n",
       "    .dataframe tbody tr th {\n",
       "        vertical-align: top;\n",
       "    }\n",
       "\n",
       "    .dataframe thead th {\n",
       "        text-align: right;\n",
       "    }\n",
       "</style>\n",
       "<table border=\"1\" class=\"dataframe\">\n",
       "  <thead>\n",
       "    <tr style=\"text-align: right;\">\n",
       "      <th></th>\n",
       "      <th>Title</th>\n",
       "      <th>Date</th>\n",
       "      <th>article_score</th>\n",
       "      <th>impact_score</th>\n",
       "    </tr>\n",
       "  </thead>\n",
       "  <tbody>\n",
       "    <tr>\n",
       "      <th>32173</th>\n",
       "      <td>반도체주 반등 기대에도…삼성전자·SK하이닉스 주가는 '주춤'(종합)</td>\n",
       "      <td>2025-03-13</td>\n",
       "      <td>0.5</td>\n",
       "      <td>0.0</td>\n",
       "    </tr>\n",
       "    <tr>\n",
       "      <th>31828</th>\n",
       "      <td>[마켓톺] 코스피 반등 열쇠는 역시 반도체株 \"감 잡았다\"</td>\n",
       "      <td>2025-02-19</td>\n",
       "      <td>0.4</td>\n",
       "      <td>0.0</td>\n",
       "    </tr>\n",
       "    <tr>\n",
       "      <th>31845</th>\n",
       "      <td>[특징주] 'K칩스법' 기재위 통과에 삼성전자·SK하이닉스 강세</td>\n",
       "      <td>2025-02-19</td>\n",
       "      <td>0.4</td>\n",
       "      <td>0.0</td>\n",
       "    </tr>\n",
       "  </tbody>\n",
       "</table>\n",
       "</div>"
      ],
      "text/plain": [
       "                                       Title       Date  article_score  \\\n",
       "32173  반도체주 반등 기대에도…삼성전자·SK하이닉스 주가는 '주춤'(종합) 2025-03-13            0.5   \n",
       "31828       [마켓톺] 코스피 반등 열쇠는 역시 반도체株 \"감 잡았다\" 2025-02-19            0.4   \n",
       "31845    [특징주] 'K칩스법' 기재위 통과에 삼성전자·SK하이닉스 강세 2025-02-19            0.4   \n",
       "\n",
       "       impact_score  \n",
       "32173           0.0  \n",
       "31828           0.0  \n",
       "31845           0.0  "
      ]
     },
     "metadata": {},
     "output_type": "display_data"
    },
    {
     "name": "stdout",
     "output_type": "stream",
     "text": [
      "\n",
      "클러스터 344번 (주제: 클래시스, 삼성전자의 인수설에 급등 주가)의 추천 기사:\n"
     ]
    },
    {
     "data": {
      "text/html": [
       "<div>\n",
       "<style scoped>\n",
       "    .dataframe tbody tr th:only-of-type {\n",
       "        vertical-align: middle;\n",
       "    }\n",
       "\n",
       "    .dataframe tbody tr th {\n",
       "        vertical-align: top;\n",
       "    }\n",
       "\n",
       "    .dataframe thead th {\n",
       "        text-align: right;\n",
       "    }\n",
       "</style>\n",
       "<table border=\"1\" class=\"dataframe\">\n",
       "  <thead>\n",
       "    <tr style=\"text-align: right;\">\n",
       "      <th></th>\n",
       "      <th>Title</th>\n",
       "      <th>Date</th>\n",
       "      <th>article_score</th>\n",
       "      <th>impact_score</th>\n",
       "    </tr>\n",
       "  </thead>\n",
       "  <tbody>\n",
       "    <tr>\n",
       "      <th>31937</th>\n",
       "      <td>클래시스, 삼성전자의 인수설에 주가 23% 급등 후 보합 마무리(종합)</td>\n",
       "      <td>2025-02-26</td>\n",
       "      <td>0.4</td>\n",
       "      <td>0.0</td>\n",
       "    </tr>\n",
       "    <tr>\n",
       "      <th>31946</th>\n",
       "      <td>[특징주] 클래시스, 삼성전자의 인수설에 급등 '역대 최고가'</td>\n",
       "      <td>2025-02-26</td>\n",
       "      <td>0.4</td>\n",
       "      <td>0.0</td>\n",
       "    </tr>\n",
       "  </tbody>\n",
       "</table>\n",
       "</div>"
      ],
      "text/plain": [
       "                                         Title       Date  article_score  \\\n",
       "31937  클래시스, 삼성전자의 인수설에 주가 23% 급등 후 보합 마무리(종합) 2025-02-26            0.4   \n",
       "31946       [특징주] 클래시스, 삼성전자의 인수설에 급등 '역대 최고가' 2025-02-26            0.4   \n",
       "\n",
       "       impact_score  \n",
       "31937           0.0  \n",
       "31946           0.0  "
      ]
     },
     "metadata": {},
     "output_type": "display_data"
    },
    {
     "name": "stdout",
     "output_type": "stream",
     "text": [
      "\n",
      "클러스터 922번 (주제: [표] 코스피 지수선물·옵션 시세표(21일)-2 시세표(24일)-2)의 추천 기사:\n"
     ]
    },
    {
     "data": {
      "text/html": [
       "<div>\n",
       "<style scoped>\n",
       "    .dataframe tbody tr th:only-of-type {\n",
       "        vertical-align: middle;\n",
       "    }\n",
       "\n",
       "    .dataframe tbody tr th {\n",
       "        vertical-align: top;\n",
       "    }\n",
       "\n",
       "    .dataframe thead th {\n",
       "        text-align: right;\n",
       "    }\n",
       "</style>\n",
       "<table border=\"1\" class=\"dataframe\">\n",
       "  <thead>\n",
       "    <tr style=\"text-align: right;\">\n",
       "      <th></th>\n",
       "      <th>Title</th>\n",
       "      <th>Date</th>\n",
       "      <th>article_score</th>\n",
       "      <th>impact_score</th>\n",
       "    </tr>\n",
       "  </thead>\n",
       "  <tbody>\n",
       "    <tr>\n",
       "      <th>31933</th>\n",
       "      <td>[표] 코스피 지수선물·옵션 시세표(26일)-2</td>\n",
       "      <td>2025-02-26</td>\n",
       "      <td>0.50</td>\n",
       "      <td>0.0</td>\n",
       "    </tr>\n",
       "    <tr>\n",
       "      <th>31913</th>\n",
       "      <td>[표] 코스피 지수선물·옵션 시세표(25일)-2</td>\n",
       "      <td>2025-02-25</td>\n",
       "      <td>0.48</td>\n",
       "      <td>0.0</td>\n",
       "    </tr>\n",
       "    <tr>\n",
       "      <th>31896</th>\n",
       "      <td>[표] 코스피 지수선물·옵션 시세표(24일)-2</td>\n",
       "      <td>2025-02-24</td>\n",
       "      <td>0.46</td>\n",
       "      <td>0.0</td>\n",
       "    </tr>\n",
       "  </tbody>\n",
       "</table>\n",
       "</div>"
      ],
      "text/plain": [
       "                            Title       Date  article_score  impact_score\n",
       "31933  [표] 코스피 지수선물·옵션 시세표(26일)-2 2025-02-26           0.50           0.0\n",
       "31913  [표] 코스피 지수선물·옵션 시세표(25일)-2 2025-02-25           0.48           0.0\n",
       "31896  [표] 코스피 지수선물·옵션 시세표(24일)-2 2025-02-24           0.46           0.0"
      ]
     },
     "metadata": {},
     "output_type": "display_data"
    }
   ],
   "source": [
    "# 클러스터 추천 생성\n",
    "top_clusters = news_recommender.recommend_clusters(\n",
    "    impact_df,\n",
    "    top_n=5,\n",
    "    articles_per_cluster=3\n",
    ")\n",
    "\n",
    "print(f\"추천된 클러스터: {len(top_clusters)}개\")\n",
    "\n",
    "# 각 클러스터의 추천 기사 확인\n",
    "for cluster_id, cluster_df in top_clusters.items():\n",
    "    cluster_topic = cluster_df['cluster_topic'].iloc[0]\n",
    "    print(f\"\\n클러스터 {cluster_id}번 (주제: {cluster_topic})의 추천 기사:\")\n",
    "    display(cluster_df[['Title', 'Date', 'article_score', 'impact_score']].head(3))"
   ]
  },
  {
   "cell_type": "markdown",
   "metadata": {},
   "source": [
    "### 트렌드 주제 추천\n",
    "\n",
    "현재 트렌드인 주제를 추천합니다."
   ]
  },
  {
   "cell_type": "code",
   "execution_count": 21,
   "metadata": {},
   "outputs": [
    {
     "name": "stderr",
     "output_type": "stream",
     "text": [
      "2025-03-27 16:49:21,696 - src.models.news_recommender - INFO - Identifying trending topics from 32208 articles\n",
      "2025-03-27 16:49:22,322 - src.models.news_recommender - INFO - Identified 5 trending topics\n",
      "2025-03-27 16:49:22,323 - src.models.news_recommender - INFO - Saved 5 trending topics to /Users/hwangchiung/CLEAR/models/recommender/trending_topics_20250327_164922.csv\n"
     ]
    },
    {
     "name": "stdout",
     "output_type": "stream",
     "text": [
      "추천된 트렌드 주제: 5개\n",
      "\n",
      "트렌드 주제 목록:\n",
      "1. [표] 코스피 지수선물·옵션 시세표(4일)-2 시세표(10일)-2 (점수: 0.69)\n",
      "2. [표] 코스피 지수선물·옵션 시세표(5일)-2 시세표(6일)-2 (점수: 0.69)\n",
      "3. 반등 [마켓톺] 코스피 열쇠는 역시 (점수: 0.68)\n",
      "4. 클래시스, 삼성전자의 인수설에 급등 주가 (점수: 0.68)\n",
      "5. [표] 코스피 지수선물·옵션 시세표(21일)-2 시세표(24일)-2 (점수: 0.68)\n"
     ]
    }
   ],
   "source": [
    "# 트렌드 주제 추천\n",
    "trending_topics = news_recommender.recommend_trending_topics(\n",
    "    impact_df,\n",
    "    top_n=5\n",
    ")\n",
    "\n",
    "print(f\"추천된 트렌드 주제: {len(trending_topics)}개\")\n",
    "print(\"\\n트렌드 주제 목록:\")\n",
    "for i, topic in enumerate(trending_topics, 1):\n",
    "    print(f\"{i}. {topic['topic']} (점수: {topic['score']:.2f})\")"
   ]
  },
  {
   "cell_type": "markdown",
   "metadata": {},
   "source": [
    "## 7. 결과 시각화 및 평가\n",
    "\n",
    "시스템의 성능을 평가하고 결과를 시각화합니다."
   ]
  },
  {
   "cell_type": "code",
   "execution_count": 22,
   "metadata": {},
   "outputs": [
    {
     "name": "stderr",
     "output_type": "stream",
     "text": [
      "2025-03-27 16:49:32,196 - src.evaluation - INFO - Initialized CLEAR evaluator\n",
      "2025-03-27 16:49:32,197 - src.evaluation - INFO - Evaluating clustering quality for 32208 articles\n"
     ]
    },
    {
     "name": "stdout",
     "output_type": "stream",
     "text": [
      "클러스터링 평가 중...\n"
     ]
    },
    {
     "name": "stderr",
     "output_type": "stream",
     "text": [
      "2025-03-27 16:49:38,962 - src.evaluation - INFO - Calculated clustering metrics: {'silhouette_score': 0.21593769385301678, 'calinski_harabasz_score': 109.4229399484891, 'davies_bouldin_score': 1.65230948066751, 'num_clusters': 1395, 'avg_cluster_size': 22.9168458781362, 'max_cluster_size': 337, 'min_cluster_size': 2}\n",
      "2025-03-27 16:49:38,982 - src.evaluation - ERROR - Error saving metrics: Object of type int64 is not JSON serializable\n",
      "2025-03-27 16:49:39,104 - matplotlib.category - INFO - Using categorical units to plot a list of strings that are all parsable as floats or dates. If these strings should be plotted as numbers, cast to the appropriate data type before plotting.\n",
      "2025-03-27 16:49:39,114 - matplotlib.category - INFO - Using categorical units to plot a list of strings that are all parsable as floats or dates. If these strings should be plotted as numbers, cast to the appropriate data type before plotting.\n",
      "2025-03-27 16:49:53,106 - src.evaluation - INFO - Created clustering visualizations\n",
      "2025-03-27 16:49:53,110 - src.evaluation - INFO - Evaluating impact prediction for 32208 articles\n",
      "2025-03-27 16:49:53,147 - src.evaluation - INFO - Calculated impact prediction metrics: {'mean_squared_error': 0.0, 'root_mean_squared_error': 0.0, 'mean_absolute_error': 0.0, 'r2_score': 1.0, 'direction_accuracy': 1.0}\n",
      "2025-03-27 16:49:53,148 - src.evaluation - INFO - Saved impact_prediction metrics to results/evaluation/impact_prediction_metrics_20250327_164953.json\n"
     ]
    },
    {
     "name": "stdout",
     "output_type": "stream",
     "text": [
      "\n",
      "클러스터링 평가 지표:\n",
      "silhouette_score: 0.2159\n",
      "calinski_harabasz_score: 109.4229\n",
      "davies_bouldin_score: 1.6523\n",
      "num_clusters: 1395\n",
      "avg_cluster_size: 22.9168\n",
      "max_cluster_size: 337\n",
      "min_cluster_size: 2\n",
      "\n",
      "영향 예측 평가 중...\n"
     ]
    },
    {
     "name": "stderr",
     "output_type": "stream",
     "text": [
      "2025-03-27 16:49:53,616 - src.evaluation - INFO - Created impact prediction visualizations\n",
      "2025-03-27 16:49:53,620 - src.evaluation - INFO - Evaluating recommendation quality\n",
      "2025-03-27 16:49:53,620 - src.evaluation - INFO - Calculated recommendation metrics: {'num_recommended_articles': 10, 'avg_impact_score': 0.0, 'max_impact_score': 0.0, 'min_impact_score': 0.0, 'unique_clusters_in_recommendations': 1, 'num_recommended_clusters': 5, 'num_trending_topics': 5}\n",
      "2025-03-27 16:49:53,622 - src.evaluation - INFO - Saved recommendations metrics to results/evaluation/recommendations_metrics_20250327_164953.json\n"
     ]
    },
    {
     "name": "stdout",
     "output_type": "stream",
     "text": [
      "\n",
      "영향 예측 평가 지표:\n",
      "mean_squared_error: 0.0000\n",
      "root_mean_squared_error: 0.0000\n",
      "mean_absolute_error: 0.0000\n",
      "r2_score: 1.0000\n",
      "direction_accuracy: 1.0000\n",
      "\n",
      "추천 평가 중...\n",
      "\n",
      "추천 평가 지표:\n",
      "num_recommended_articles: 10\n",
      "avg_impact_score: 0.0000\n",
      "max_impact_score: 0.0000\n",
      "min_impact_score: 0.0000\n",
      "unique_clusters_in_recommendations: 1\n",
      "num_recommended_clusters: 5\n",
      "num_trending_topics: 5\n"
     ]
    }
   ],
   "source": [
    "# 평가기 초기화\n",
    "evaluator = CLEAREvaluator(results_dir=\"results/evaluation\")\n",
    "\n",
    "# 클러스터링 평가\n",
    "print(\"클러스터링 평가 중...\")\n",
    "clustering_metrics = evaluator.evaluate_clustering(\n",
    "    impact_df,\n",
    "    vector_col='vector',\n",
    "    cluster_col='cluster_id'\n",
    ")\n",
    "\n",
    "print(\"\\n클러스터링 평가 지표:\")\n",
    "for metric, value in clustering_metrics.items():\n",
    "    print(f\"{metric}: {value:.4f}\" if isinstance(value, float) else f\"{metric}: {value}\")\n",
    "\n",
    "# 영향 예측 평가\n",
    "print(\"\\n영향 예측 평가 중...\")\n",
    "impact_metrics = evaluator.evaluate_impact_prediction(\n",
    "    impact_df,\n",
    "    actual_col='impact_score',\n",
    "    predicted_col='predicted_impact'\n",
    ")\n",
    "\n",
    "print(\"\\n영향 예측 평가 지표:\")\n",
    "for metric, value in impact_metrics.items():\n",
    "    print(f\"{metric}: {value:.4f}\")\n",
    "\n",
    "# 추천 평가\n",
    "print(\"\\n추천 평가 중...\")\n",
    "recommendations = {\n",
    "    'top_articles': top_articles,\n",
    "    'top_clusters': top_clusters,\n",
    "    'trending_topics': trending_topics\n",
    "}\n",
    "recommendation_metrics = evaluator.evaluate_recommendations(recommendations)\n",
    "\n",
    "print(\"\\n추천 평가 지표:\")\n",
    "for metric, value in recommendation_metrics.items():\n",
    "    print(f\"{metric}: {value:.4f}\" if isinstance(value, float) else f\"{metric}: {value}\")"
   ]
  },
  {
   "cell_type": "markdown",
   "metadata": {},
   "source": [
    "### 종합 결과 시각화\n",
    "\n",
    "시스템의 주요 결과를 종합적으로 시각화합니다."
   ]
  },
  {
   "cell_type": "code",
   "execution_count": 24,
   "metadata": {},
   "outputs": [
    {
     "data": {
      "image/png": "[encoded data removed]",
      "text/plain": [
       "<Figure size 1500x1000 with 4 Axes>"
      ]
     },
     "metadata": {},
     "output_type": "display_data"
    }
   ],
   "source": [
    "# 종합 결과 시각화\n",
    "plt.figure(figsize=(15, 10))\n",
    "\n",
    "# 1. 클러스터 크기 분포\n",
    "plt.subplot(2, 2, 1)\n",
    "sns.histplot(cluster_sizes.values, bins=20)\n",
    "plt.title('Distribution of Cluster Size')\n",
    "plt.xlabel('Cluster Size')\n",
    "plt.ylabel('Number of Clusters')\n",
    "\n",
    "# 2. 영향 점수 분포\n",
    "plt.subplot(2, 2, 2)\n",
    "sns.histplot(impact_df['impact_score'].dropna(), bins=20, kde=True)\n",
    "plt.title('Distribution of Stock Impact Score')\n",
    "plt.xlabel('Impact Score (-5 ~ +5)')\n",
    "plt.ylabel('Number of Articles')\n",
    "plt.axvline(x=0, color='r', linestyle='--')\n",
    "\n",
    "# 3. 실제 vs 예측 영향 점수\n",
    "plt.subplot(2, 2, 3)\n",
    "plt.scatter(valid_impact_df['impact_score'], valid_impact_df['predicted_impact'], alpha=0.6)\n",
    "plt.plot([-5, 5], [-5, 5], 'r--')\n",
    "plt.title('Real vs. Prediction impact score')\n",
    "plt.xlabel('Real')\n",
    "plt.ylabel('Prediction')\n",
    "plt.xlim(-5, 5)\n",
    "plt.ylim(-5, 5)\n",
    "plt.grid(True)\n",
    "\n",
    "# 4. 추천 점수 분포\n",
    "plt.subplot(2, 2, 4)\n",
    "sns.histplot(top_articles['recommendation_score'], bins=20, kde=True)\n",
    "plt.title('Recommendation Score Distribution')\n",
    "plt.xlabel('Recommendation Score')\n",
    "plt.ylabel('Number of Articles')\n",
    "\n",
    "plt.tight_layout()\n",
    "plt.show()"
   ]
  },
  {
   "cell_type": "markdown",
   "metadata": {},
   "source": [
    "## 결론\n",
    "\n",
    "이 노트북에서는 CLEAR 시스템의 각 모듈을 단계별로 시연했습니다. CLEAR는 네이버의 AiRs 아키텍처를 기반으로 하되, 개인화 대신 주가 영향에 중점을 둔 뉴스 추천 시스템입니다.\n",
    "\n",
    "주요 구성 요소:\n",
    "1. **텍스트 전처리**: Mecab을 사용한 한국어 형태소 분석 및 불용어 제거\n",
    "2. **뉴스 벡터화**: TF-IDF 및 기타 임베딩 방법을 사용한 벡터 표현 생성\n",
    "3. **뉴스 클러스터링**: 계층적 응집 클러스터링을 사용한 유사 기사 그룹화\n",
    "4. **주가 영향 분석**: 뉴스 기사가 주가에 미치는 영향 측정 및 예측\n",
    "5. **뉴스 추천**: 주가 영향 및 기타 요소를 기반으로 한 다중 요소 추천\n",
    "\n",
    "CLEAR 시스템은 AiRs의 핵심 메커니즘을 유지하면서 금융 도메인에 맞게 조정되어, 투자자와 금융 분석가에게 가치 있는 도구를 제공합니다."
   ]
  }
 ],
 "metadata": {
  "kernelspec": {
   "display_name": "dl",
   "language": "python",
   "name": "python3"
  },
  "language_info": {
   "codemirror_mode": {
    "name": "ipython",
    "version": 3
   },
   "file_extension": ".py",
   "mimetype": "text/x-python",
   "name": "python",
   "nbconvert_exporter": "python",
   "pygments_lexer": "ipython3",
   "version": "3.10.13"
  }
 },
 "nbformat": 4,
 "nbformat_minor": 4
}
