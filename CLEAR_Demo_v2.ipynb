{
 "cells": [
  {
   "cell_type": "markdown",
   "metadata": {},
   "source": [
    "# CLEAR: Clustering and Stock Impact-based News Recommendation System\n",
    "\n",
    "## 시스템 데모 노트북 (개선된 버전)\n",
    "\n",
    "이 노트북은 CLEAR(Clustering and Stock Impact-based News Recommendation System) 시스템의 각 모듈을 단계별로 시연합니다. 네이버의 AiRs 아키텍처를 기반으로 하되, 개인화 대신 주가 영향에 중점을 둔 뉴스 추천 시스템입니다.\n",
    "\n",
    "### 목차\n",
    "1. 환경 설정 및 데이터 로드\n",
    "2. 텍스트 전처리\n",
    "3. 뉴스 벡터화\n",
    "4. 뉴스 클러스터링\n",
    "5. 주가 영향 분석 (개선된 버전)\n",
    "6. 고급 주가 영향 분석 (수정 및 개선)\n",
    "7. 뉴스 추천\n",
    "8. 결과 시각화 및 평가"
   ]
  },
  {
   "cell_type": "markdown",
   "metadata": {},
   "source": [
    "## 1. 환경 설정 및 데이터 로드\n",
    "\n",
    "먼저 필요한 라이브러리를 가져오고 시스템 구성 요소를 초기화합니다."
   ]
  },
  {
   "cell_type": "code",
   "execution_count": 1,
   "metadata": {},
   "outputs": [],
   "source": [
    "# 필요한 라이브러리 가져오기\n",
    "import os\n",
    "import sys\n",
    "import pandas as pd\n",
    "import numpy as np\n",
    "import matplotlib.pyplot as plt\n",
    "import seaborn as sns\n",
    "from datetime import datetime, timedelta\n",
    "import warnings\n",
    "import logging\n",
    "warnings.filterwarnings('ignore')\n",
    "\n",
    "# 로깅 설정\n",
    "logging.basicConfig(\n",
    "    level=logging.INFO,\n",
    "    format='%(asctime)s - %(name)s - %(levelname)s - %(message)s'\n",
    ")\n",
    "\n",
    "# 한글 폰트 설정\n",
    "import matplotlib.font_manager as fm\n",
    "plt.rc('font', family='NanumGothic')\n",
    "plt.rc('axes', unicode_minus=False)\n",
    "\n",
    "# 경로 설정\n",
    "current_dir = os.getcwd()\n",
    "if current_dir.endswith('notebooks/demo'):\n",
    "    sys.path.append('../../')\n",
    "else:\n",
    "    sys.path.append('./')\n",
    "\n",
    "# 시각화 스타일 설정\n",
    "sns.set_style(\"whitegrid\")\n",
    "plt.style.use('seaborn-v0_8-whitegrid')"
   ]
  },
  {
   "cell_type": "markdown",
   "metadata": {},
   "source": [
    "### CLEAR 모듈 가져오기\n",
    "\n",
    "이제 CLEAR 시스템의 각 모듈을 가져옵니다. 개선된 고급 주가 영향 분석기를 포함합니다."
   ]
  },
  {
   "cell_type": "code",
   "execution_count": 2,
   "metadata": {},
   "outputs": [],
   "source": [
    "# CLEAR 모듈 가져오기\n",
    "from src.data.text_preprocessor import TextPreprocessor\n",
    "from src.models.news_vectorizer import NewsVectorizer\n",
    "from src.models.news_clustering import NewsClustering\n",
    "from src.models.stock_impact_analyzer import StockImpactAnalyzer\n",
    "from src.models.advanced_stock_impact_analyzer import AdvancedStockImpactAnalyzer\n",
    "from src.models.news_recommender import NewsRecommender\n",
    "from src.evaluation import CLEAREvaluator"
   ]
  },
  {
   "cell_type": "markdown",
   "metadata": {},
   "source": [
    "### 데이터 로드\n",
    "\n",
    "제공된 뉴스 및 주가 데이터를 로드합니다."
   ]
  },
  {
   "cell_type": "markdown",
   "metadata": {},
   "source": [
    "### 주가 데이터 구조 설명\n",
    "\n",
    "주가 데이터는 다음과 같은 구조를 가집니다:\n",
    "- Date: 날짜 (YYYYMMDD 형식)\n",
    "- Time: 시간 (이 열은 모두 0이므로 무시합니다)\n",
    "- Start: 시가 (09:00 시장 개장 가격)\n",
    "- High: 고가\n",
    "- Low: 저가\n",
    "- End: 종가 (15:00 시장 마감 가격)\n",
    "- Volume: 거래량\n",
    "\n",
    "주의: 주가 데이터는 일별 데이터이며, Time 열은 무시해야 합니다."
   ]
  },
  {
   "cell_type": "code",
   "execution_count": 3,
   "metadata": {},
   "outputs": [
    {
     "name": "stdout",
     "output_type": "stream",
     "text": [
      "주가 데이터 기간: 2013-07-16 00:00:00 ~ 2025-03-05 00:00:00\n",
      "총 거래일 수: 2856\n"
     ]
    },
    {
     "data": {
      "text/html": [
       "<div>\n",
       "<style scoped>\n",
       "    .dataframe tbody tr th:only-of-type {\n",
       "        vertical-align: middle;\n",
       "    }\n",
       "\n",
       "    .dataframe tbody tr th {\n",
       "        vertical-align: top;\n",
       "    }\n",
       "\n",
       "    .dataframe thead th {\n",
       "        text-align: right;\n",
       "    }\n",
       "</style>\n",
       "<table border=\"1\" class=\"dataframe\">\n",
       "  <thead>\n",
       "    <tr style=\"text-align: right;\">\n",
       "      <th></th>\n",
       "      <th>Date</th>\n",
       "      <th>Start</th>\n",
       "      <th>High</th>\n",
       "      <th>Low</th>\n",
       "      <th>End</th>\n",
       "      <th>Volume</th>\n",
       "    </tr>\n",
       "  </thead>\n",
       "  <tbody>\n",
       "    <tr>\n",
       "      <th>0</th>\n",
       "      <td>2025-03-05</td>\n",
       "      <td>55100</td>\n",
       "      <td>55400</td>\n",
       "      <td>54200</td>\n",
       "      <td>54300</td>\n",
       "      <td>6367338</td>\n",
       "    </tr>\n",
       "    <tr>\n",
       "      <th>1</th>\n",
       "      <td>2025-03-04</td>\n",
       "      <td>53900</td>\n",
       "      <td>55000</td>\n",
       "      <td>53800</td>\n",
       "      <td>54500</td>\n",
       "      <td>18553933</td>\n",
       "    </tr>\n",
       "    <tr>\n",
       "      <th>2</th>\n",
       "      <td>2025-02-28</td>\n",
       "      <td>55400</td>\n",
       "      <td>55700</td>\n",
       "      <td>54500</td>\n",
       "      <td>54500</td>\n",
       "      <td>28036698</td>\n",
       "    </tr>\n",
       "    <tr>\n",
       "      <th>3</th>\n",
       "      <td>2025-02-27</td>\n",
       "      <td>56500</td>\n",
       "      <td>57100</td>\n",
       "      <td>56200</td>\n",
       "      <td>56300</td>\n",
       "      <td>14975356</td>\n",
       "    </tr>\n",
       "    <tr>\n",
       "      <th>4</th>\n",
       "      <td>2025-02-26</td>\n",
       "      <td>57000</td>\n",
       "      <td>57100</td>\n",
       "      <td>56100</td>\n",
       "      <td>56600</td>\n",
       "      <td>18117091</td>\n",
       "    </tr>\n",
       "  </tbody>\n",
       "</table>\n",
       "</div>"
      ],
      "text/plain": [
       "        Date  Start   High    Low    End    Volume\n",
       "0 2025-03-05  55100  55400  54200  54300   6367338\n",
       "1 2025-03-04  53900  55000  53800  54500  18553933\n",
       "2 2025-02-28  55400  55700  54500  54500  28036698\n",
       "3 2025-02-27  56500  57100  56200  56300  14975356\n",
       "4 2025-02-26  57000  57100  56100  56600  18117091"
      ]
     },
     "execution_count": 3,
     "metadata": {},
     "output_type": "execute_result"
    }
   ],
   "source": [
    "# 주가 데이터 로드\n",
    "stock_data_path = os.path.join('data', 'stock', 'stockprice_005930.csv')\n",
    "stock_df = pd.read_csv(stock_data_path)\n",
    "\n",
    "# 날짜를 datetime으로 변환\n",
    "stock_df['Date'] = pd.to_datetime(stock_df['Date'], format='%Y%m%d')\n",
    "\n",
    "# Time 열 제거 (모두 0이므로 무시)\n",
    "stock_df = stock_df.drop('Time', axis=1)\n",
    "\n",
    "# 주가 데이터 확인\n",
    "print(f\"주가 데이터 기간: {stock_df['Date'].min()} ~ {stock_df['Date'].max()}\")\n",
    "print(f\"총 거래일 수: {len(stock_df)}\")\n",
    "stock_df.head()"
   ]
  },
  {
   "cell_type": "markdown",
   "metadata": {},
   "source": [
    "### 뉴스 데이터 구조 설명\n",
    "\n",
    "뉴스 데이터는 다음과 같은 구조를 가집니다:\n",
    "- Title: 뉴스 제목\n",
    "- Date: 날짜 및 시간 (YYYYMMDD HH:MM 형식)\n",
    "- Press: 언론사\n",
    "- Link: 뉴스 URL\n",
    "- Body: 뉴스 본문\n",
    "- Emotion: 감정 정보\n",
    "- Num_comment: 댓글 수\n",
    "- AI Summary: AI 요약 (일부 뉴스에만 존재)"
   ]
  },
  {
   "cell_type": "code",
   "execution_count": 4,
   "metadata": {},
   "outputs": [
    {
     "name": "stdout",
     "output_type": "stream",
     "text": [
      "날짜 형식 예시: 20190101 15:36\n",
      "뉴스 데이터 수: 32208\n"
     ]
    },
    {
     "data": {
      "text/html": [
       "<div>\n",
       "<style scoped>\n",
       "    .dataframe tbody tr th:only-of-type {\n",
       "        vertical-align: middle;\n",
       "    }\n",
       "\n",
       "    .dataframe tbody tr th {\n",
       "        vertical-align: top;\n",
       "    }\n",
       "\n",
       "    .dataframe thead th {\n",
       "        text-align: right;\n",
       "    }\n",
       "</style>\n",
       "<table border=\"1\" class=\"dataframe\">\n",
       "  <thead>\n",
       "    <tr style=\"text-align: right;\">\n",
       "      <th></th>\n",
       "      <th>Title</th>\n",
       "      <th>Date</th>\n",
       "      <th>Press</th>\n",
       "    </tr>\n",
       "  </thead>\n",
       "  <tbody>\n",
       "    <tr>\n",
       "      <th>0</th>\n",
       "      <td>세계 2위 휴대전화 시장 인도, 이제 중·고가 제품에 눈 돌린다</td>\n",
       "      <td>20190101 15:36</td>\n",
       "      <td>yna</td>\n",
       "    </tr>\n",
       "    <tr>\n",
       "      <th>1</th>\n",
       "      <td>[부고] 홍현칠(삼성전자 서남아총괄)씨 부친상</td>\n",
       "      <td>20190101 14:53</td>\n",
       "      <td>yna</td>\n",
       "    </tr>\n",
       "    <tr>\n",
       "      <th>2</th>\n",
       "      <td>SK그룹, CES서 신사업 기회 모색…경영진 총출동</td>\n",
       "      <td>20190101 09:00</td>\n",
       "      <td>yna</td>\n",
       "    </tr>\n",
       "    <tr>\n",
       "      <th>3</th>\n",
       "      <td>'알박기 노조'에 미행까지…삼성에버랜드 노조방해 13명 기소</td>\n",
       "      <td>20190101 09:00</td>\n",
       "      <td>yna</td>\n",
       "    </tr>\n",
       "    <tr>\n",
       "      <th>4</th>\n",
       "      <td>CES 달굴 모바일은…LG·소니 중저가폰에 로욜 폴더블폰도</td>\n",
       "      <td>20190101 08:10</td>\n",
       "      <td>yna</td>\n",
       "    </tr>\n",
       "  </tbody>\n",
       "</table>\n",
       "</div>"
      ],
      "text/plain": [
       "                                 Title            Date Press\n",
       "0  세계 2위 휴대전화 시장 인도, 이제 중·고가 제품에 눈 돌린다  20190101 15:36   yna\n",
       "1            [부고] 홍현칠(삼성전자 서남아총괄)씨 부친상  20190101 14:53   yna\n",
       "2         SK그룹, CES서 신사업 기회 모색…경영진 총출동  20190101 09:00   yna\n",
       "3    '알박기 노조'에 미행까지…삼성에버랜드 노조방해 13명 기소  20190101 09:00   yna\n",
       "4     CES 달굴 모바일은…LG·소니 중저가폰에 로욜 폴더블폰도  20190101 08:10   yna"
      ]
     },
     "execution_count": 4,
     "metadata": {},
     "output_type": "execute_result"
    }
   ],
   "source": [
    "# 뉴스 데이터 로드\n",
    "news_data_path = os.path.join('data', 'news', 'yna_005930_all.csv')\n",
    "news_df = pd.read_csv(news_data_path)\n",
    "\n",
    "# 날짜 형식 확인\n",
    "print(f\"날짜 형식 예시: {news_df['Date'].iloc[0]}\")\n",
    "\n",
    "# 뉴스 데이터 확인\n",
    "print(f\"뉴스 데이터 수: {len(news_df)}\")\n",
    "news_df[['Title', 'Date', 'Press']].head()"
   ]
  },
  {
   "cell_type": "markdown",
   "metadata": {},
   "source": [
    "## 2. 텍스트 전처리\n",
    "\n",
    "뉴스 텍스트를 전처리하여 분석에 적합한 형태로 변환합니다. 한국어 텍스트 처리를 위한 특별한 설정을 포함합니다."
   ]
  },
  {
   "cell_type": "code",
   "execution_count": 5,
   "metadata": {},
   "outputs": [
    {
     "name": "stderr",
     "output_type": "stream",
     "text": [
      "2025-03-31 01:35:23,911 - src.data.text_preprocessor - INFO - Initialized Mecab tokenizer\n",
      "2025-03-31 01:35:23,986 - src.data.text_preprocessor - INFO - Initialized 405 stopwords\n",
      "2025-03-31 01:35:23,987 - src.data.text_preprocessor - INFO - Initialized TextPreprocessor with language=ko, use_mecab=True\n"
     ]
    },
    {
     "name": "stdout",
     "output_type": "stream",
     "text": [
      "원본 제목: 세계 2위 휴대전화 시장 인도, 이제 중·고가 제품에 눈 돌린다\n",
      "전처리 제목: 세계 휴대 전화 인도 이제 제품 돌린다\n",
      "--------------------------------------------------------------------------------\n",
      "원본 제목: [부고] 홍현칠(삼성전자 서남아총괄)씨 부친상\n",
      "전처리 제목: 부고 홍현칠 삼성전자 총괄 부친상\n",
      "--------------------------------------------------------------------------------\n",
      "원본 제목: SK그룹, CES서 신사업 기회 모색…경영진 총출동\n",
      "전처리 제목: 신사업 기회 모색 경영진 총출동\n",
      "--------------------------------------------------------------------------------\n"
     ]
    }
   ],
   "source": [
    "# 텍스트 전처리기 초기화\n",
    "text_preprocessor = TextPreprocessor(\n",
    "    language='ko',\n",
    "    use_mecab=True,  # 한국어 형태소 분석기 사용\n",
    "    remove_stopwords=True,\n",
    "    custom_stopwords=['기자', '연합뉴스', '뉴스', '기사', '서울', '이미지', '확대', '제공']\n",
    ")\n",
    "\n",
    "# 뉴스 제목과 본문 전처리\n",
    "news_df['processed_title'] = news_df['Title'].apply(text_preprocessor.preprocess_text)\n",
    "news_df['processed_body'] = news_df['Body'].apply(text_preprocessor.preprocess_text)\n",
    "\n",
    "# 전처리 결과 확인\n",
    "for i in range(3):\n",
    "    print(f\"원본 제목: {news_df['Title'].iloc[i]}\")\n",
    "    print(f\"전처리 제목: {news_df['processed_title'].iloc[i]}\")\n",
    "    print(\"-\" * 80)"
   ]
  },
  {
   "cell_type": "markdown",
   "metadata": {},
   "source": [
    "### 텍스트 전처리 과정 설명\n",
    "\n",
    "텍스트 전처리는 다음 단계로 이루어집니다:\n",
    "\n",
    "1. **텍스트 정규화**: HTML 태그 제거, 특수 문자 제거, 소문자 변환 등\n",
    "2. **토큰화**: 텍스트를 개별 토큰(단어)으로 분리\n",
    "3. **불용어 제거**: 분석에 불필요한 일반적인 단어 제거\n",
    "4. **형태소 분석**: 한국어 텍스트의 경우 Mecab을 사용하여 형태소 분석 수행\n",
    "\n",
    "한국어 텍스트 처리를 위해 Mecab 형태소 분석기를 사용하여 더 정확한 단어 분리를 수행합니다."
   ]
  },
  {
   "cell_type": "markdown",
   "metadata": {},
   "source": [
    "## 3. 뉴스 벡터화\n",
    "\n",
    "전처리된 뉴스 텍스트를 벡터로 변환합니다. 제목과 본문을 다르게 처리하는 옵션을 포함합니다."
   ]
  },
  {
   "cell_type": "code",
   "execution_count": 6,
   "metadata": {},
   "outputs": [
    {
     "name": "stderr",
     "output_type": "stream",
     "text": [
      "2025-03-31 01:35:55,240 - src.models.news_vectorizer - WARNING - GPU requested but not available, falling back to CPU\n",
      "2025-03-31 01:35:55,240 - src.models.news_vectorizer - INFO - Initialized TF-IDF vectorizer with max_features=10000\n",
      "2025-03-31 01:35:55,241 - src.models.news_vectorizer - INFO - Initialized NewsVectorizer with method=tfidf, max_features=10000\n",
      "2025-03-31 01:35:55,256 - src.models.news_vectorizer - INFO - Fitting tfidf vectorizer on 32208 documents\n",
      "2025-03-31 01:36:05,852 - src.models.news_vectorizer - INFO - TF-IDF vectorizer fitted with vocabulary size: 10000\n",
      "2025-03-31 01:36:09,433 - src.models.news_vectorizer - INFO - Saved TF-IDF vectorizer to /Users/hwangchiung/CLEAR/models/vectorizers/tfidf_vectorizer.joblib\n",
      "2025-03-31 01:36:09,434 - src.models.news_vectorizer - INFO - Transforming 32208 documents using tfidf\n",
      "2025-03-31 01:36:14,487 - src.models.news_vectorizer - INFO - Transformed 32208 documents to shape (32208, 10000)\n"
     ]
    },
    {
     "name": "stdout",
     "output_type": "stream",
     "text": [
      "뉴스 벡터 형태: (32208, 10000)\n",
      "벡터 차원: 10000\n"
     ]
    }
   ],
   "source": [
    "# 뉴스 벡터화기 초기화\n",
    "news_vectorizer = NewsVectorizer(\n",
    "    method='tfidf',\n",
    "    max_features=10000,\n",
    "    embedding_dim=300,\n",
    "    use_gpu=True,\n",
    "    title_weight=2.0\n",
    ")\n",
    "\n",
    "# 뉴스 벡터화\n",
    "combined_texts = [\n",
    "    f\"{title} {body}\"\n",
    "    for title, body in zip(news_df['processed_title'], news_df['processed_body'])\n",
    "]\n",
    "\n",
    "# Fit and transform using the combined texts\n",
    "news_vectors = news_vectorizer.fit_transform(combined_texts)\n",
    "\n",
    "# 벡터화 결과 확인\n",
    "print(f\"뉴스 벡터 형태: {news_vectors.shape}\")\n",
    "print(f\"벡터 차원: {news_vectors.shape[1]}\")\n",
    "\n",
    "# 벡터를 DataFrame에 추가\n",
    "news_df['vector'] = list(news_vectors)"
   ]
  },
  {
   "cell_type": "markdown",
   "metadata": {},
   "source": [
    "### 뉴스 벡터화 과정 설명\n",
    "\n",
    "뉴스 벡터화는 텍스트를 수치 벡터로 변환하는 과정입니다. 이 시스템에서는 다음 방법을 지원합니다:\n",
    "\n",
    "1. **TF-IDF (Term Frequency-Inverse Document Frequency)**: 단어의 중요도를 문서 내 빈도와 전체 문서에서의 희소성을 기반으로 계산\n",
    "2. **Word2Vec**: 단어의 의미적 관계를 포착하는 단어 임베딩 모델\n",
    "3. **BERT 임베딩**: 문맥을 고려한 고급 언어 모델 기반 임베딩\n",
    "\n",
    "제목과 본문에 다른 가중치를 적용하여 제목의 중요성을 강조할 수 있습니다. 이는 뉴스 제목이 일반적으로 핵심 내용을 더 잘 요약하기 때문입니다."
   ]
  },
  {
   "cell_type": "markdown",
   "metadata": {},
   "source": [
    "## 4. 뉴스 클러스터링\n",
    "\n",
    "벡터화된 뉴스를 유사한 주제별로 클러스터링합니다."
   ]
  },
  {
   "cell_type": "code",
   "execution_count": null,
   "metadata": {},
   "outputs": [
    {
     "name": "stderr",
     "output_type": "stream",
     "text": [
      "2025-03-31 01:36:15,006 - src.models.news_clustering - INFO - Initialized NewsClustering with distance_threshold=0.7, min_cluster_size=2\n",
      "2025-03-31 01:36:15,006 - src.models.news_clustering - INFO - Clustering 32208 articles\n"
     ]
    }
   ],
   "source": [
    "# 뉴스 클러스터링 초기화\n",
    "news_clustering = NewsClustering(\n",
    "    distance_threshold=0.7,  # 거리 임계값 (낮을수록 더 엄격한 클러스터링)\n",
    "    min_cluster_size=2,      # 최소 클러스터 크기\n",
    "    max_cluster_size=20,     # 최대 클러스터 크기\n",
    "    linkage='average'        # 연결 방법 (평균 연결)\n",
    ")\n",
    "\n",
    "news_df = news_clustering.cluster_articles(\n",
    "    articles_df=news_df, \n",
    "    vector_col='vector',\n",
    "    title_col='Title',\n",
    "    content_col='Body',\n",
    "    date_col='Date',\n",
    "    impact_col='impact_overall'\n",
    ")\n",
    "\n",
    "# Now, 'cluster_id' should exist in news_df\n",
    "cluster_counts = news_df['cluster_id'].value_counts().sort_index()\n",
    "print(\"클러스터별 뉴스 수:\")\n",
    "print(cluster_counts)\n",
    "\n",
    "# 클러스터별 뉴스 수 시각화\n",
    "plt.figure(figsize=(10, 6))\n",
    "sns.barplot(x=cluster_counts.index, y=cluster_counts.values)\n",
    "plt.title('Distribution of Clusters')\n",
    "plt.xlabel('Size of Cluster')\n",
    "plt.ylabel('Num of Cluster')\n",
    "plt.show()"
   ]
  },
  {
   "cell_type": "code",
   "execution_count": null,
   "metadata": {},
   "outputs": [],
   "source": [
    "# 각 클러스터의 대표 키워드 추출\n",
    "cluster_keywords = news_clustering.get_cluster_keywords(news_vectorizer.vectorizer, news_df)\n",
    "\n",
    "# 클러스터별 대표 키워드 출력\n",
    "for cluster_id, keywords in cluster_keywords.items():\n",
    "    print(f\"클러스터 {cluster_id} 키워드: {', '.join(keywords)}\")\n",
    "    \n",
    "    # 해당 클러스터의 뉴스 제목 몇 개 출력\n",
    "    cluster_news = news_df[news_df['cluster_id'] == cluster_id]['Title'].head(3).tolist()\n",
    "    for i, title in enumerate(cluster_news):\n",
    "        print(f\"  - 뉴스 {i+1}: {title}\")\n",
    "    print(\"-\" * 80)"
   ]
  },
  {
   "cell_type": "markdown",
   "metadata": {},
   "source": [
    "### 뉴스 클러스터링 과정 설명\n",
    "\n",
    "뉴스 클러스터링은 유사한 내용의 뉴스를 그룹화하는 과정입니다. 이 시스템에서는 다음 방법을 지원합니다:\n",
    "\n",
    "1. **K-means**: 벡터 공간에서 중심점을 기준으로 데이터를 k개의 클러스터로 나누는 알고리즘\n",
    "2. **DBSCAN**: 밀도 기반 클러스터링으로, 밀집된 지역을 클러스터로 식별\n",
    "3. **계층적 클러스터링**: 데이터 포인트 간의 거리를 기반으로 계층적 구조를 형성\n",
    "\n",
    "클러스터링을 통해 유사한 주제의 뉴스를 그룹화하고, 각 클러스터의 대표 키워드를 추출하여 주제를 파악할 수 있습니다."
   ]
  },
  {
   "cell_type": "markdown",
   "metadata": {},
   "source": [
    "## 5. 주가 영향 분석\n",
    "\n",
    "뉴스가 주가에 미치는 영향을 분석합니다."
   ]
  },
  {
   "cell_type": "code",
   "execution_count": null,
   "metadata": {},
   "outputs": [],
   "source": [
    "# 주가 데이터 딕셔너리 생성\n",
    "stock_data = {'005930': stock_df}\n",
    "\n",
    "# 주가 영향 분석기 초기화\n",
    "stock_impact_analyzer = StockImpactAnalyzer(\n",
    "    time_windows=[\n",
    "        {\"name\": \"immediate\", \"days\": 1},  # 1일 영향\n",
    "        {\"name\": \"short_term\", \"days\": 3},  # 3일 영향\n",
    "        {\"name\": \"medium_term\", \"days\": 7}  # 7일 영향\n",
    "    ],\n",
    "    impact_thresholds={\n",
    "        \"high\": 0.02,    # 2% 가격 변동\n",
    "        \"medium\": 0.01,  # 1% 가격 변동\n",
    "        \"low\": 0.005     # 0.5% 가격 변동\n",
    "    }\n",
    ")\n",
    "\n",
    "# 뉴스 영향 분석\n",
    "impact_df = stock_impact_analyzer.analyze_news_impact(news_df, stock_data)\n",
    "\n",
    "# 영향 분석 결과 확인\n",
    "impact_columns = [col for col in impact_df.columns if 'impact' in col or 'price_change' in col]\n",
    "print(\"영향 분석 결과:\")\n",
    "impact_df[['Title', 'Date'] + impact_columns].head()"
   ]
  },
  {
   "cell_type": "code",
   "execution_count": null,
   "metadata": {},
   "outputs": [],
   "source": [
    "# 영향 점수 분포 시각화\n",
    "plt.figure(figsize=(12, 6))\n",
    "sns.histplot(impact_df['impact_score'].dropna(), bins=20, kde=True)\n",
    "plt.title('뉴스 영향 점수 분포')\n",
    "plt.xlabel('영향 점수')\n",
    "plt.ylabel('빈도')\n",
    "plt.axvline(x=0, color='red', linestyle='--')\n",
    "plt.show()"
   ]
  },
  {
   "cell_type": "markdown",
   "metadata": {},
   "source": [
    "### 주가 영향 분석 과정 설명\n",
    "\n",
    "주가 영향 분석은 뉴스 발행 후 주가 변동을 측정하여 뉴스의 영향력을 평가하는 과정입니다. 다음 단계로 이루어집니다:\n",
    "\n",
    "1. **뉴스에서 관련 종목 추출**: 뉴스 내용에서 언급된 기업 및 종목 코드 식별\n",
    "2. **시간 윈도우 정의**: 뉴스 발행 후 영향을 측정할 기간 설정 (즉시, 단기, 중기)\n",
    "3. **가격 변동 계산**: 각 시간 윈도우에서의 주가 변동 계산\n",
    "4. **영향 점수 산출**: 가격 변동, 거래량 변화, 변동성 등을 고려한 종합 영향 점수 계산\n",
    "\n",
    "이 분석을 통해 어떤 뉴스가 주가에 긍정적 또는 부정적 영향을 미쳤는지 파악할 수 있습니다."
   ]
  },
  {
   "cell_type": "markdown",
   "metadata": {},
   "source": [
    "## 6. 고급 주가 영향 분석 (수정 및 개선)\n",
    "\n",
    "개선된 고급 주가 영향 분석기를 사용하여 더 정교한 분석을 수행합니다. 이 분석기는 KO-finbert 감성 분석, 변동성 측정, 시장 상관관계 등을 포함합니다."
   ]
  },
  {
   "cell_type": "code",
   "execution_count": null,
   "metadata": {},
   "outputs": [],
   "source": [
    "# 고급 주가 영향 분석기 초기화\n",
    "advanced_analyzer = AdvancedStockImpactAnalyzer(\n",
    "    stock_data_dir=os.path.join('data', 'stock'),\n",
    "    use_finbert=True,  # KO-finbert 감성 분석 사용\n",
    "    use_volatility=True,  # 변동성 분석 사용\n",
    "    use_market_trend=False,  # 시장 상관관계 분석 (시장 지수 데이터 없음)\n",
    "    time_window_days=3,  # 3일 시간 윈도우\n",
    "    impact_threshold=0.02,  # 2% 임계값\n",
    "    sentiment_weight=0.3  # 감성 가중치\n",
    ")"
   ]
  },
  {
   "cell_type": "code",
   "execution_count": null,
   "metadata": {},
   "outputs": [],
   "source": [
    "# 고급 주가 영향 분석 수행\n",
    "advanced_impact_df = advanced_analyzer.analyze_news_impact(news_df, stock_data)\n",
    "\n",
    "# 분석 결과 확인\n",
    "print(f\"분석된 뉴스 수 (Number of analyzed news): {len(advanced_impact_df)}\")\n",
    "print(f\"영향 점수가 계산된 뉴스 수: {advanced_impact_df['impact_overall'].notna().sum()}\")\n",
    "\n",
    "# 감성 분포 확인\n",
    "sentiment_counts = advanced_impact_df['sentiment_label'].value_counts()\n",
    "print(\"\\n감성 분포:\")\n",
    "print(sentiment_counts)"
   ]
  },
  {
   "cell_type": "code",
   "execution_count": null,
   "metadata": {},
   "outputs": [],
   "source": [
    "# 영향 점수 결과 확인\n",
    "impact_columns = ['impact_price', 'impact_sentiment', 'impact_volatility', 'impact_overall']\n",
    "advanced_impact_df[['Title', 'Date', 'sentiment_label'] + impact_columns].head(10)"
   ]
  },
  {
   "cell_type": "code",
   "execution_count": null,
   "metadata": {},
   "outputs": [],
   "source": [
    "# Ensure Date is datetime and impact_overall is numeric\n",
    "advanced_impact_df['Date'] = pd.to_datetime(advanced_impact_df['Date'], errors='coerce')\n",
    "advanced_impact_df['impact_overall'] = pd.to_numeric(advanced_impact_df['impact_overall'], errors='coerce')\n",
    "\n",
    "# Call the visualization functions\n",
    "advanced_analyzer.visualize_impact_distribution(advanced_impact_df)\n",
    "advanced_analyzer.visualize_impact_over_time(advanced_impact_df)"
   ]
  },
  {
   "cell_type": "code",
   "execution_count": null,
   "metadata": {},
   "outputs": [],
   "source": [
    "# 가장 영향력 있는 뉴스 확인\n",
    "top_positive = advanced_analyzer.get_top_impactful_news(advanced_impact_df, n=5, impact_type='positive')\n",
    "print(\"가장 긍정적 영향을 미친 뉴스:\")\n",
    "top_positive[['Title', 'Date', 'impact_overall', 'sentiment_label']]"
   ]
  },
  {
   "cell_type": "code",
   "execution_count": null,
   "metadata": {},
   "outputs": [],
   "source": [
    "# 가장 부정적 영향을 미친 뉴스 확인\n",
    "top_negative = advanced_analyzer.get_top_impactful_news(advanced_impact_df, n=5, impact_type='negative')\n",
    "print(\"가장 부정적 영향을 미친 뉴스:\")\n",
    "top_negative[['Title', 'Date', 'impact_overall', 'sentiment_label']]"
   ]
  },
  {
   "cell_type": "markdown",
   "metadata": {},
   "source": [
    "### 고급 주가 영향 분석 개선 사항 설명\n",
    "\n",
    "개선된 고급 주가 영향 분석기는 다음과 같은 향상된 기능을 제공합니다:\n",
    "\n",
    "1. **강화된 날짜 파싱**: 한국어 뉴스 날짜 형식(YYYYMMDD HH:MM)을 정확히 처리\n",
    "2. **주가 데이터 처리 개선**: Time 열을 무시하고 일별 데이터에 집중\n",
    "3. **종목 추출 강화**: 뉴스에서 관련 종목을 더 정확히 추출하고 기본값 제공\n",
    "4. **KO-finbert 감성 분석**: 한국어 금융 텍스트에 특화된 BERT 모델을 사용한 감성 분석\n",
    "5. **다중 지표 영향 점수**: 가격 변동, 감성, 변동성을 종합적으로 고려한 영향 점수 계산\n",
    "6. **강화된 시각화**: 영향 점수 분포 및 시간에 따른 변화를 시각화\n",
    "\n",
    "이러한 개선을 통해 모든 뉴스에 대해 영향 점수를 계산할 수 있게 되었으며, 더 정확한 분석 결과를 제공합니다."
   ]
  },
  {
   "cell_type": "markdown",
   "metadata": {},
   "source": [
    "## 7. 뉴스 추천\n",
    "\n",
    "클러스터링 및 주가 영향 분석 결과를 기반으로 뉴스를 추천합니다."
   ]
  },
  {
   "cell_type": "code",
   "execution_count": null,
   "metadata": {},
   "outputs": [],
   "source": [
    "# 뉴스 추천기 초기화\n",
    "news_recommender = NewsRecommender(\n",
    "    weights={\n",
    "        'impact': 0.4,       # 주가 영향\n",
    "        'quality': 0.2,      # 질 평가\n",
    "        'content': 0.3,      # 콘텐츠 기반\n",
    "        'collaborative': 0.0,  # 개인화 없음\n",
    "        'recency': 0.1       # 최신 뉴스\n",
    "    }\n",
    ")"
   ]
  },
  {
   "cell_type": "code",
   "execution_count": null,
   "metadata": {},
   "outputs": [],
   "source": [
    "# 고급 영향 분석 결과를 병합\n",
    "merged_df = news_df.copy()\n",
    "merged_df['impact_score'] = advanced_impact_df['impact_overall']\n",
    "merged_df['sentiment_label'] = advanced_impact_df['sentiment_label']\n",
    "\n",
    "# 뉴스 추천 수행\n",
    "recommended_news = news_recommender.recommend_articles(merged_df, top_n=10)\n",
    "\n",
    "# 추천 결과 확인\n",
    "print(f\"추천된 뉴스 수: {len(recommended_news)}\")\n",
    "recommended_news[['Title', 'Date', 'impact_score', 'sentiment_label', 'recommendation_score']].head(10)"
   ]
  },
  {
   "cell_type": "markdown",
   "metadata": {},
   "source": [
    "### 뉴스 추천 과정 설명\n",
    "\n",
    "뉴스 추천은 네이버의 AiRS 시스템에서 영감을 받아 다음 메커니즘을 조합합니다:\n",
    "\n",
    "1. **협업 필터링 (CF)**: 유사한 사용자의 선호도를 기반으로 추천 (개인화 없으므로 가중치 0)\n",
    "2. **콘텐츠 기반 필터링 (CBF)**: 뉴스 내용의 유사성을 기반으로 추천\n",
    "3. **질의 확장 (QE)**: 검색 쿼리를 확장하여 관련 뉴스 추천\n",
    "4. **주가 영향 (SI)**: 주가에 큰 영향을 미친 뉴스 우선 추천\n",
    "5. **최신 뉴스 (Latest)**: 최근 발행된 뉴스 우선 추천\n",
    "\n",
    "각 메커니즘에 가중치를 적용하여 최종 추천 점수를 계산합니다. 이 시스템에서는 개인화 대신 주가 영향에 높은 가중치를 부여합니다."
   ]
  },
  {
   "cell_type": "markdown",
   "metadata": {},
   "source": [
    "## 8. 결과 시각화 및 평가\n",
    "\n",
    "추천 시스템의 결과를 시각화하고 평가합니다."
   ]
  },
  {
   "cell_type": "code",
   "execution_count": null,
   "metadata": {},
   "outputs": [],
   "source": [
    "# 클러스터와 영향 점수 관계 시각화\n",
    "plt.figure(figsize=(12, 6))\n",
    "sns.boxplot(x='cluster_id', y='impact_score', data=merged_df)\n",
    "plt.title('Stock Impact Distribution by Cluster')\n",
    "plt.xlabel('Cluster ID')\n",
    "plt.ylabel('Impact Score')\n",
    "plt.axhline(y=0, color='red', linestyle='--')\n",
    "plt.show()"
   ]
  },
  {
   "cell_type": "code",
   "execution_count": null,
   "metadata": {},
   "outputs": [],
   "source": [
    "# 감성과 영향 점수 관계 시각화\n",
    "plt.figure(figsize=(10, 6))\n",
    "sns.boxplot(x='sentiment_label', y='impact_score', data=merged_df)\n",
    "plt.title('Stock Impact Score by Sentiment')\n",
    "plt.xlabel('Sentiment')\n",
    "plt.ylabel('Impact Score')\n",
    "plt.axhline(y=0, color='red', linestyle='--')\n",
    "plt.show()"
   ]
  },
  {
   "cell_type": "code",
   "execution_count": null,
   "metadata": {},
   "outputs": [],
   "source": [
    "# 시간에 따른 클러스터 분포 시각화\n",
    "# 날짜를 datetime으로 변환\n",
    "if not pd.api.types.is_datetime64_any_dtype(merged_df['Date']):\n",
    "    merged_df['Date'] = merged_df['Date'].apply(lambda x: pd.to_datetime(str(x).split()[0], format='%Y%m%d'))\n",
    "\n",
    "# 월별로 그룹화\n",
    "merged_df['month'] = merged_df['Date'].dt.to_period('M')\n",
    "cluster_by_month = pd.crosstab(merged_df['month'], merged_df['cluster_id'])\n",
    "\n",
    "# 시각화\n",
    "plt.figure(figsize=(14, 8))\n",
    "cluster_by_month.plot(kind='bar', stacked=True, ax=plt.gca())\n",
    "plt.title('월별 클러스터 분포')\n",
    "plt.xlabel('월')\n",
    "plt.ylabel('뉴스 수')\n",
    "plt.legend(title='클러스터 ID')\n",
    "plt.xticks(rotation=45)\n",
    "plt.show()"
   ]
  },
  {
   "cell_type": "markdown",
   "metadata": {},
   "source": [
    "### 시스템 평가\n",
    "\n",
    "CLEAR 시스템의 성능을 평가합니다. 실제 레이블이 없으므로 내부 일관성 및 분포 특성을 기반으로 평가합니다."
   ]
  },
  {
   "cell_type": "code",
   "execution_count": null,
   "metadata": {},
   "outputs": [],
   "source": [
    "# 평가기 초기화\n",
    "evaluator = CLEAREvaluator()\n",
    "\n",
    "# 클러스터링 품질 평가\n",
    "clustering_scores = evaluator.evaluate_clustering(merged_df)\n",
    "\n",
    "print(\"클러스터링 평가 결과:\")\n",
    "for metric, score in clustering_scores.items():\n",
    "    print(f\"{metric}: {score:.4f}\")"
   ]
  },
  {
   "cell_type": "code",
   "execution_count": null,
   "metadata": {},
   "outputs": [],
   "source": [
    "# # 영향 분석 일관성 평가\n",
    "# impact_consistency = evaluator.evaluate_impact_consistency(merged_df)\n",
    "\n",
    "# print(\"\\n영향 분석 일관성 평가:\")\n",
    "# print(f\"감성-영향 일관성 점수: {impact_consistency:.4f}\")"
   ]
  },
  {
   "cell_type": "code",
   "execution_count": null,
   "metadata": {},
   "outputs": [],
   "source": [
    "# # 추천 다양성 평가\n",
    "# diversity_score = evaluator.evaluate_recommendation_diversity(\n",
    "#     recommended_df=recommended_news,\n",
    "#     cluster_col='cluster_id'\n",
    "# )\n",
    "\n",
    "# print(\"\\n추천 다양성 평가:\")\n",
    "# print(f\"클러스터 다양성 점수: {diversity_score:.4f}\")"
   ]
  },
  {
   "cell_type": "markdown",
   "metadata": {},
   "source": [
    "## 결론\n",
    "\n",
    "CLEAR 시스템은 네이버의 AiRS 아키텍처를 기반으로 하되, 개인화 대신 주가 영향에 중점을 둔 뉴스 추천 시스템입니다. 이 시스템은 다음과 같은 주요 구성 요소로 이루어져 있습니다:\n",
    "\n",
    "1. **텍스트 전처리**: 한국어 뉴스 텍스트를 분석에 적합한 형태로 변환\n",
    "2. **뉴스 벡터화**: 텍스트를 수치 벡터로 변환하여 유사성 계산 가능\n",
    "3. **뉴스 클러스터링**: 유사한 주제의 뉴스를 그룹화\n",
    "4. **주가 영향 분석**: 뉴스가 주가에 미치는 영향 측정\n",
    "5. **고급 주가 영향 분석**: KO-finbert 감성 분석, 변동성 측정 등을 통한 정교한 분석\n",
    "6. **뉴스 추천**: 클러스터링 및 주가 영향을 고려한 뉴스 추천\n",
    "\n",
    "이 시스템은 금융 뉴스를 분석하고 주가에 영향을 미치는 중요한 뉴스를 식별하는 데 유용하게 활용될 수 있습니다."
   ]
  }
 ],
 "metadata": {
  "kernelspec": {
   "display_name": "dl",
   "language": "python",
   "name": "python3"
  },
  "language_info": {
   "codemirror_mode": {
    "name": "ipython",
    "version": 3
   },
   "file_extension": ".py",
   "mimetype": "text/x-python",
   "name": "python",
   "nbconvert_exporter": "python",
   "pygments_lexer": "ipython3",
   "version": "3.10.13"
  }
 },
 "nbformat": 4,
 "nbformat_minor": 4
}
